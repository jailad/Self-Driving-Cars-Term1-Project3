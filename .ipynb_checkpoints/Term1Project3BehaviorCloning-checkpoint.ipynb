{
 "cells": [
  {
   "cell_type": "markdown",
   "metadata": {
    "deletable": true,
    "editable": true
   },
   "source": [
    "## Project 3 - Behavioral Cloning"
   ]
  },
  {
   "cell_type": "code",
   "execution_count": 1,
   "metadata": {
    "collapsed": false,
    "deletable": true,
    "editable": true
   },
   "outputs": [
    {
     "name": "stderr",
     "output_type": "stream",
     "text": [
      "Using TensorFlow backend.\n"
     ]
    }
   ],
   "source": [
    "\n",
    "# Common Imports\n",
    "\n",
    "import resource\n",
    "import numpy as np\n",
    "import csv\n",
    "import time # Used for calculating the run-time of code segments\n",
    "import matplotlib.pyplot as plt # Useful for generating training plots\n",
    "# Useful for inline plot generation\n",
    "%matplotlib inline\n",
    "import sklearn\n",
    "from sklearn.model_selection import train_test_split\n",
    "import datetime\n",
    "\n",
    "# Initial Setup for Keras\n",
    "from keras.layers.convolutional import Convolution2D\n",
    "from keras.applications.inception_v3 import InceptionV3\n",
    "from keras.preprocessing import image\n",
    "from keras.models import Model, Sequential\n",
    "from keras.layers import Dense, GlobalAveragePooling2D, Activation, Flatten, Dropout, Lambda, Input, Cropping2D, ELU\n",
    "from keras import backend as K\n",
    "from keras.layers.pooling import MaxPooling2D\n",
    "from keras.callbacks import ModelCheckpoint, EarlyStopping\n",
    "from keras.models import load_model\n",
    "\n",
    "import pandas # For generating descriptive statistics\n",
    "from pandas.tools.plotting import scatter_matrix\n",
    "import cv2 # Include Open CV\n"
   ]
  },
  {
   "cell_type": "code",
   "execution_count": 2,
   "metadata": {
    "collapsed": true,
    "deletable": true,
    "editable": true
   },
   "outputs": [],
   "source": [
    "\n",
    "# Shared Constants\n",
    "\n",
    "const_separator_line = \"--------------------------------\"\n",
    "const_csv_filename = 'driving_log.csv'\n",
    "const_image_foldername = 'IMG/'\n",
    "const_udacity_data_folder_name = 'data/fromudacity/'\n",
    "const_my_data_fast_track1_clockwise_folder_name = 'data/fast_track1clockwise/'\n",
    "const_my_data_fast_track1_counterclockwise_folder_name = 'data/fast_track1counterclockwise/'\n",
    "const_my_data_track1_curves_cw_folder_name = 'data/mydata_track1_curves_cw/'\n",
    "const_my_data_track1_curves_ccw_folder_name = 'data/mydata_track1_curves_ccw/'\n",
    "\n",
    "\n",
    "const_validation_data_ratio = 0.5 # Split off 20% of samples for validation\n",
    "\n",
    "# Named constants for important parameter values\n",
    "\n",
    "const_dropout_probability = 0.2\n",
    "const_num_epochs = 3\n",
    "const_activation_function = 'relu'\n",
    "const_padding_strategy = 'valid'\n",
    "const_padding_strategy_same ='same'\n",
    "const_loss_function = 'mse'\n",
    "const_optimizer_function = 'adam'\n",
    "const_model_filename_prefix = 'model_'\n",
    "const_model_filename_postfix = '.h5'\n"
   ]
  },
  {
   "cell_type": "code",
   "execution_count": 3,
   "metadata": {
    "collapsed": true,
    "deletable": true,
    "editable": true
   },
   "outputs": [],
   "source": [
    "\n",
    "# Useful to selectively turn on / off logging at different levels\n",
    "\n",
    "const_info_log_enabled = False\n",
    "def infoLog(logMessage, param_separator=None):\n",
    "    if const_info_log_enabled == True:\n",
    "        print(\"\")\n",
    "        if param_separator:\n",
    "            print(param_separator) \n",
    "        print(logMessage)\n",
    "\n",
    "const_debug_log_enabled = True\n",
    "def debugLog(logMessage, param_separator=None):\n",
    "    if const_debug_log_enabled == True:\n",
    "        print(\"\")\n",
    "        if param_separator:\n",
    "            print(param_separator) \n",
    "        print(logMessage)\n",
    "        \n",
    "const_warning_log_enabled = True\n",
    "def warningLog(logMessage, param_separator=None):\n",
    "    if const_warning_log_enabled == True:\n",
    "        print(\"\")\n",
    "        if param_separator:\n",
    "            print(param_separator) \n",
    "        print(logMessage)\n",
    "        \n",
    "const_error_log_enabled = True\n",
    "def errorLog(logMessage, param_separator=None):\n",
    "    if const_error_log_enabled == True:\n",
    "        print(\"\")\n",
    "        if param_separator:\n",
    "            print(param_separator) \n",
    "        print(logMessage)\n"
   ]
  },
  {
   "cell_type": "code",
   "execution_count": 4,
   "metadata": {
    "collapsed": false,
    "deletable": true,
    "editable": true
   },
   "outputs": [
    {
     "data": {
      "text/plain": [
       "178516"
      ]
     },
     "execution_count": 4,
     "metadata": {},
     "output_type": "execute_result"
    }
   ],
   "source": [
    "# Convenience method to get and Print current memory usage\n",
    "\n",
    "def print_memory_usage():\n",
    "    infoLog(\"{} Kb\".format(resource.getrusage(resource.RUSAGE_SELF).ru_maxrss),)\n",
    "    return resource.getrusage(resource.RUSAGE_SELF).ru_maxrss\n",
    "    \n",
    "print_memory_usage()"
   ]
  },
  {
   "cell_type": "code",
   "execution_count": 5,
   "metadata": {
    "collapsed": false,
    "deletable": true,
    "editable": true
   },
   "outputs": [
    {
     "name": "stdout",
     "output_type": "stream",
     "text": [
      "\n",
      "1494159007.5728762\n"
     ]
    }
   ],
   "source": [
    "# Convenience method to get Current Time\n",
    "\n",
    "def get_current_time():\n",
    "    current_time = time.time()\n",
    "    return current_time\n",
    "\n",
    "debugLog(get_current_time())"
   ]
  },
  {
   "cell_type": "code",
   "execution_count": 6,
   "metadata": {
    "collapsed": false,
    "deletable": true,
    "editable": true
   },
   "outputs": [
    {
     "name": "stdout",
     "output_type": "stream",
     "text": [
      "\n",
      "2017-05-07T12:10:08.030725\n"
     ]
    }
   ],
   "source": [
    "# Return Current time in human readable format\n",
    "\n",
    "def get_current_human_readable_time():\n",
    "    return datetime.datetime.now().isoformat()\n",
    "\n",
    "debugLog(get_current_human_readable_time())\n"
   ]
  },
  {
   "cell_type": "code",
   "execution_count": 7,
   "metadata": {
    "collapsed": true,
    "deletable": true,
    "editable": true
   },
   "outputs": [],
   "source": [
    "# Convenience method to get Print Time Difference\n",
    "\n",
    "def print_time_diff(start_time, end_time, activity_label=\"task\"):\n",
    "    time_difference = end_time - start_time\n",
    "    debugLog(\"Execution time for \" + activity_label + \" : \" + str(time_difference) + \" seconds\")\n",
    "    return time_difference"
   ]
  },
  {
   "cell_type": "code",
   "execution_count": 50,
   "metadata": {
    "collapsed": true,
    "deletable": true,
    "editable": true
   },
   "outputs": [],
   "source": [
    "# Convenience functions to generate different types of Keras model architectures\n",
    "\n",
    "# Defining convenience parameters for different network architectures\n",
    "# C = Convolution\n",
    "# A = Activation\n",
    "# P = Pooling\n",
    "# FL = Flatten\n",
    "# FC = Fully Connected\n",
    "# D = Dropout\n",
    "\n",
    "# Base Model with Preprocessing\n",
    "def get_base_model():\n",
    "    model = Sequential()\n",
    "    model.add(Cropping2D(cropping=((70,20), (0,0)), input_shape=(160,320,3)))\n",
    "    model.add(Lambda(lambda x: x/255.0 - 0.5))\n",
    "    #     model.add(Lambda(lambda x: x/255.0 - 0.5, input_shape=(160,320,3)))\n",
    "    return model\n",
    "\n",
    "# Simple model for quick training and validation\n",
    "def get_simple_model():\n",
    "    model_desc_name = 'simple_model'\n",
    "    model = get_base_model()\n",
    "    model.add(Convolution2D(32, 3, 3, border_mode=const_padding_strategy))\n",
    "    model.add(Activation(const_activation_function))\n",
    "    model.add(MaxPooling2D(pool_size=(2,2),strides=None, border_mode=const_padding_strategy))\n",
    "    model.add(Dropout(const_dropout_probability))\n",
    "\n",
    "    model.add(Convolution2D(64, 3, 3, border_mode=const_padding_strategy))\n",
    "    model.add(Activation(const_activation_function))\n",
    "    model.add(MaxPooling2D(pool_size=(2,2),strides=None, border_mode=const_padding_strategy))\n",
    "    model.add(Dropout(const_dropout_probability))\n",
    "\n",
    "    model.add(Convolution2D(128, 3, 3, border_mode=const_padding_strategy))\n",
    "    model.add(Activation(const_activation_function))\n",
    "    model.add(MaxPooling2D(pool_size=(2,2),strides=None, border_mode=const_padding_strategy))\n",
    "    model.add(Dropout(const_dropout_probability))\n",
    "\n",
    "    model.add(Flatten())\n",
    "\n",
    "    model.add(Dense(128))\n",
    "    model.add(Activation(const_activation_function))\n",
    "\n",
    "    model.add(Dense(1))\n",
    "    \n",
    "    model.compile(loss=const_loss_function, optimizer=const_optimizer_function, metrics=['accuracy','precision','recall'])\n",
    "\n",
    "    return model, model_desc_name\n",
    "\n",
    "\n",
    "# Returns an architecture which is based on the architecture which I used successfully for Project 2 - Behavioral Cloning\n",
    "# Changes relative to above have been called out at the individual layers\n",
    "def get_my_model():\n",
    "    model_desc_name = 'my_model'\n",
    "    model = get_base_model()\n",
    "    \n",
    "    #CAP5_16 - Pool Size increased to 4 from 2, to reduce number of parameters\n",
    "    model.add(Convolution2D(16, 5, 5, border_mode=const_padding_strategy))\n",
    "    model.add(Activation(const_activation_function))\n",
    "    model.add(MaxPooling2D(pool_size=(2,2),strides=None, border_mode=const_padding_strategy))\n",
    "\n",
    "    #CAP5_32 - Pool Size increased to 4 from 2, to reduce number of parameters\n",
    "    model.add(Convolution2D(32, 5, 5, border_mode=const_padding_strategy))\n",
    "    model.add(Activation(const_activation_function))\n",
    "    model.add(MaxPooling2D(pool_size=(2,2),strides=None, border_mode=const_padding_strategy))\n",
    "    \n",
    "    #CAP2_256 - Depth reduced to 64 from 256, to reduce number of parameters\n",
    "    model.add(Convolution2D(64, 5, 5, border_mode=const_padding_strategy))\n",
    "    model.add(Activation(const_activation_function))\n",
    "    model.add(MaxPooling2D(pool_size=(2,2),strides=None, border_mode=const_padding_strategy))\n",
    "    \n",
    "    #FL\n",
    "    model.add(Flatten())\n",
    "\n",
    "    #FCA_240 -> 256\n",
    "    model.add(Dense(256))\n",
    "    model.add(Activation(const_activation_function))\n",
    "\n",
    "    #FCA_168 -> 64\n",
    "    model.add(Dense(64))\n",
    "    model.add(Activation(const_activation_function))\n",
    "        \n",
    "    #D-0.7\n",
    "    model.add(Dropout(const_dropout_probability))\n",
    "\n",
    "    #FC_43 -> FC_1\n",
    "    model.add(Dense(1))\n",
    "    \n",
    "    model.compile(loss=const_loss_function, optimizer=const_optimizer_function, metrics=['accuracy','precision','recall'])\n",
    "\n",
    "    return model, model_desc_name\n",
    "\n",
    "\n",
    "# From - https://devblogs.nvidia.com/parallelforall/deep-learning-self-driving-cars/\n",
    "# From - http://images.nvidia.com/content/tegra/automotive/images/2016/solutions/pdf/end-to-end-dl-using-px.pdf\n",
    "# Changes relative to above architecture, if applicable, have been called out at the individual layers\n",
    "\n",
    "def get_nvidia_model():\n",
    "    model_desc_name = 'nvidia_cnn_model'\n",
    "    # Normalization/ Preprocessing\n",
    "    model = get_base_model()\n",
    "    \n",
    "    #CA24_5_2_VALID\n",
    "    model.add(Convolution2D(24, 5, 5, subsample=(2,2), border_mode=const_padding_strategy))\n",
    "    model.add(Activation(const_activation_function))\n",
    "    \n",
    "    #CA36_5_2_VALID\n",
    "    model.add(Convolution2D(36, 5, 5, subsample=(2,2), border_mode=const_padding_strategy))\n",
    "    model.add(Activation(const_activation_function))\n",
    "    \n",
    "    #CA48_5_2_VALID\n",
    "    model.add(Convolution2D(48, 5, 5, subsample=(2,2), border_mode=const_padding_strategy))\n",
    "    model.add(Activation(const_activation_function))\n",
    "    \n",
    "    #CA64_3_1_VALID\n",
    "    model.add(Convolution2D(64, 3, 3, subsample=(1,1), border_mode=const_padding_strategy))\n",
    "    model.add(Activation(const_activation_function))\n",
    "    \n",
    "    #CA64_3_1_VALID\n",
    "    model.add(Convolution2D(64, 3, 3, subsample=(1,1), border_mode=const_padding_strategy))\n",
    "    model.add(Activation(const_activation_function))\n",
    "    \n",
    "    #FL\n",
    "    model.add(Flatten())\n",
    "    \n",
    "    #FCA1164\n",
    "    model.add(Dense(1164))\n",
    "    model.add(Activation(const_activation_function))\n",
    "    \n",
    "    #FCA100\n",
    "    model.add(Dense(100))\n",
    "    model.add(Activation(const_activation_function))\n",
    "    \n",
    "    #FCA50\n",
    "    model.add(Dense(50))\n",
    "    model.add(Activation(const_activation_function))\n",
    "    \n",
    "    #D-0.7\n",
    "    # Dropout was not shown in the original architecture, but I added it to prevent over fitting\n",
    "    model.add(Dropout(const_dropout_probability))\n",
    "    \n",
    "    #FC1\n",
    "    model.add(Dense(1))\n",
    "    \n",
    "    model.compile(loss=const_loss_function, optimizer=const_optimizer_function, metrics=['accuracy','precision','recall'])\n",
    "\n",
    "    return model, model_desc_name\n",
    "\n",
    "# From - https://github.com/commaai/research/blob/master/train_steering_model.py\n",
    "def get_commaai_model():\n",
    "    model_desc_name = 'commaai_cnn_model'\n",
    "    model = get_base_model()\n",
    "\n",
    "    model.add(Convolution2D(16, 8, 8, subsample=(1, 1), border_mode=\"same\"))\n",
    "    model.add(ELU())\n",
    "    model.add(Convolution2D(32, 5, 5, subsample=(2, 2), border_mode=\"same\"))\n",
    "    model.add(ELU())\n",
    "    model.add(Convolution2D(64, 5, 5, subsample=(2, 2), border_mode=\"same\"))\n",
    "    model.add(Flatten())\n",
    "    model.add(Dropout(const_dropout_probability))\n",
    "    model.add(ELU())\n",
    "    model.add(Dense(512))\n",
    "    model.add(Dropout(const_dropout_probability))\n",
    "    model.add(ELU())\n",
    "    \n",
    "    model.add(Dense(1))\n",
    "    \n",
    "    model.compile(loss=const_loss_function, optimizer=const_optimizer_function, metrics=['accuracy','precision','recall'])\n",
    "\n",
    "    return model, model_desc_name\n",
    "\n",
    "def get_inception_model():\n",
    "    model_desc_name = 'inception_model'\n",
    "    \n",
    "    img_width = 160\n",
    "    img_height = 320\n",
    "\n",
    "    base_model = InceptionV3(weights='imagenet', include_top=False, input_shape = (img_width, img_height, 3))\n",
    "\n",
    "    x = base_model.output\n",
    "    x = Flatten()(x)\n",
    "    x = Dense(128, activation='relu')(x)\n",
    "    predictions = Dense(1)(x)\n",
    "\n",
    "    # this is the model we will train\n",
    "    model = Model(input=base_model.input, output=predictions)\n",
    "    \n",
    "    infoLog(model_desc_name + \" layers\")\n",
    "    \n",
    "    for i, layer in enumerate(model.layers):\n",
    "        debugLog(\"Layer : \" + str(i) + \" Layer Name:\" + str(layer.name))\n",
    "\n",
    "    # first: train only the top layers (which were randomly initialized)\n",
    "    # i.e. freeze all convolutional InceptionV3 layers\n",
    "    for layer in base_model.layers:\n",
    "        layer.trainable = False\n",
    "    \n",
    "    model.compile(loss=const_loss_function, optimizer=const_optimizer_function, metrics=['accuracy','precision','recall'])\n",
    "\n",
    "    return model, model_desc_name"
   ]
  },
  {
   "cell_type": "code",
   "execution_count": 54,
   "metadata": {
    "collapsed": false
   },
   "outputs": [
    {
     "name": "stdout",
     "output_type": "stream",
     "text": [
      "\n",
      "Model Architecture for simple_model\n",
      "\n",
      "Layer 0\n",
      "\n",
      "<keras.layers.convolutional.Cropping2D object at 0x7f72472ea080>\n",
      "\n",
      "Layer 1\n",
      "\n",
      "<keras.layers.core.Lambda object at 0x7f72472ea358>\n",
      "\n",
      "Layer 2\n",
      "\n",
      "<keras.layers.convolutional.Convolution2D object at 0x7f72472ea908>\n",
      "\n",
      "Layer 3\n",
      "\n",
      "<keras.layers.core.Activation object at 0x7f7247289438>\n",
      "\n",
      "Layer 4\n",
      "\n",
      "<keras.layers.pooling.MaxPooling2D object at 0x7f72472895f8>\n",
      "\n",
      "Layer 5\n",
      "\n",
      "<keras.layers.core.Dropout object at 0x7f7247289828>\n",
      "\n",
      "Layer 6\n",
      "\n",
      "<keras.layers.convolutional.Convolution2D object at 0x7f72472977f0>\n",
      "\n",
      "Layer 7\n",
      "\n",
      "<keras.layers.core.Activation object at 0x7f7247244630>\n",
      "\n",
      "Layer 8\n",
      "\n",
      "<keras.layers.pooling.MaxPooling2D object at 0x7f72472447f0>\n",
      "\n",
      "Layer 9\n",
      "\n",
      "<keras.layers.core.Dropout object at 0x7f7247244a20>\n",
      "\n",
      "Layer 10\n",
      "\n",
      "<keras.layers.convolutional.Convolution2D object at 0x7f72472519e8>\n",
      "\n",
      "Layer 11\n",
      "\n",
      "<keras.layers.core.Activation object at 0x7f724727f828>\n",
      "\n",
      "Layer 12\n",
      "\n",
      "<keras.layers.pooling.MaxPooling2D object at 0x7f724727fd30>\n",
      "\n",
      "Layer 13\n",
      "\n",
      "<keras.layers.core.Dropout object at 0x7f724720b1d0>\n",
      "\n",
      "Layer 14\n",
      "\n",
      "<keras.layers.core.Flatten object at 0x7f724720bbe0>\n",
      "\n",
      "Layer 15\n",
      "\n",
      "<keras.layers.core.Dense object at 0x7f724722b9e8>\n",
      "\n",
      "Layer 16\n",
      "\n",
      "<keras.layers.core.Activation object at 0x7f72471c8550>\n",
      "\n",
      "Layer 17\n",
      "\n",
      "<keras.layers.core.Dense object at 0x7f72471c8a90>\n"
     ]
    }
   ],
   "source": [
    "# Convenience method which takes a Keras Model, and prints it's architecture\n",
    "\n",
    "def print_model_architecture(keras_model, model_label):\n",
    "    debugLog(\"Model Architecture for \" + model_label)\n",
    "    layers = keras_model.layers\n",
    "    for index, layer in enumerate(layers):\n",
    "        debugLog(\"Layer \" + str(index))\n",
    "        debugLog(layer)\n",
    "        \n",
    "model, model_name = get_simple_model()\n",
    "print_model_architecture(model, model_name)"
   ]
  },
  {
   "cell_type": "code",
   "execution_count": 8,
   "metadata": {
    "collapsed": true,
    "deletable": true,
    "editable": true
   },
   "outputs": [],
   "source": [
    "# Convenience method which takes a Keras History object and prints it\n",
    "\n",
    "def plot_keras_history_object(keras_history_object, model_label):\n",
    "    plt.plot(keras_history_object.history['loss'])\n",
    "    plt.plot(keras_history_object.history['val_loss'])\n",
    "    plt.title('Model : ' + model_label +  ' -> mean squared error loss')\n",
    "    plt.ylabel('mean squared error loss')\n",
    "    plt.xlabel('epoch')\n",
    "    plt.legend(['training set', 'validation set'], loc='upper right')\n",
    "    plt.show()\n"
   ]
  },
  {
   "cell_type": "code",
   "execution_count": 9,
   "metadata": {
    "collapsed": true,
    "deletable": true,
    "editable": true
   },
   "outputs": [],
   "source": [
    "# Convenience method, which takes in array of filepaths, and labels, and plots a random images from the set\n",
    "\n",
    "def visualize_image_from(filepaths, labels, file_path_prefix=None):\n",
    "    index = np.random.randint(0, len(filepaths))   \n",
    "    image_filepath = filepaths[index]\n",
    "    if file_path_prefix:\n",
    "        image_filepath = file_path_prefix + image_filepath\n",
    "    else:\n",
    "        image_filepath = get_relative_path(image_filepath)\n",
    "    image_label = labels[index]\n",
    "    image = cv2.imread(image_filepath)\n",
    "    \n",
    "    infoLog(image_filepath)\n",
    "    infoLog(index)\n",
    "    infoLog(image.shape) \n",
    "    infoLog(image.dtype) \n",
    "    infoLog(image_label)\n",
    "    \n",
    "    plt.title(str(image_label) + \" || \"+ image_filepath)\n",
    "    plt.imshow(cv2.cvtColor(image, cv2.COLOR_BGR2RGB)) \n",
    "    "
   ]
  },
  {
   "cell_type": "code",
   "execution_count": 10,
   "metadata": {
    "collapsed": true,
    "deletable": true,
    "editable": true
   },
   "outputs": [],
   "source": [
    "# Convenience method which takes in a CSV file's path, and generates statistics for the same\n",
    "\n",
    "def generate_stats_and_visualization(csv_file_name, has_header):\n",
    "    dataset = None\n",
    "    if has_header == False:\n",
    "        dataset = pandas.read_csv(csv_file_name, names=['center', 'left', 'right', 'steering', 'throttle', 'brake', 'speed'])\n",
    "    else:\n",
    "        dataset = pandas.read_csv(csv_file_name)\n",
    "\n",
    "    debugLog(\"Start - Stats and Visualization for - FileName : \" + csv_file_name, const_separator_line)\n",
    "\n",
    "    debugLog(\"Shape = \" + str(dataset.shape), const_separator_line)\n",
    "\n",
    "    debugLog(\"Top 5 Rows = \" + str(dataset.head(5)), const_separator_line)\n",
    "\n",
    "    debugLog(\"Dataset Description \\n\" + str(dataset.describe()), const_separator_line)\n",
    "\n",
    "    debugLog(\"Steering Angle Distributions \\n\",const_separator_line )\n",
    "    debugLog(dataset.groupby('steering').size())\n",
    "\n",
    "    debugLog(\"Box and Whisker Plots \\n\",const_separator_line)\n",
    "    dataset.plot(kind='box', subplots=True, layout=(2,2), sharex=False, sharey=False)\n",
    "    plt.show()\n",
    "\n",
    "    debugLog(\"Histograms \\n\",const_separator_line)\n",
    "    dataset.hist(bins=20)\n",
    "    plt.show()\n",
    "    debugLog(\"End - Stats and Visualization for - FileName : \" + csv_file_name, const_separator_line)\n",
    "    "
   ]
  },
  {
   "cell_type": "code",
   "execution_count": 11,
   "metadata": {
    "collapsed": false,
    "deletable": true,
    "editable": true
   },
   "outputs": [
    {
     "name": "stdout",
     "output_type": "stream",
     "text": [
      "\n",
      "data/fast_track1clockwise/IMG/center_2017_05_05_13_51_02_269.jpg\n"
     ]
    }
   ],
   "source": [
    "\n",
    "# Convenience method to convert a long absolute path to relative path\n",
    "\n",
    "sample_absolute_path = \"/Users/jai/Desktop/BitBucket/UDSDC/GitHubSubmissions/Self-Driving-Cars-Term1-Project3-BehavioralCloning/data/fast_track1clockwise/IMG/center_2017_05_05_13_51_02_269.jpg\"\n",
    "\n",
    "def get_relative_path(param_absolute_path):\n",
    "    string_split = param_absolute_path.split('/')\n",
    "    string_split_last4 = string_split[-4:]\n",
    "    relative_path = \"/\".join(string_split_last4)\n",
    "    return relative_path\n",
    "\n",
    "debugLog(get_relative_path(sample_absolute_path))\n"
   ]
  },
  {
   "cell_type": "code",
   "execution_count": 12,
   "metadata": {
    "collapsed": false,
    "deletable": true,
    "editable": true
   },
   "outputs": [
    {
     "name": "stdout",
     "output_type": "stream",
     "text": [
      "\n",
      "--------------------------------\n",
      "Start - Stats and Visualization for - FileName : data/fromudacity/driving_log.csv\n",
      "\n",
      "--------------------------------\n",
      "Shape = (8036, 7)\n",
      "\n",
      "--------------------------------\n",
      "Top 5 Rows =                                    center  \\\n",
      "0  IMG/center_2016_12_01_13_30_48_287.jpg   \n",
      "1  IMG/center_2016_12_01_13_30_48_404.jpg   \n",
      "2  IMG/center_2016_12_01_13_31_12_937.jpg   \n",
      "3  IMG/center_2016_12_01_13_31_13_037.jpg   \n",
      "4  IMG/center_2016_12_01_13_31_13_177.jpg   \n",
      "\n",
      "                                    left  \\\n",
      "0   IMG/left_2016_12_01_13_30_48_287.jpg   \n",
      "1   IMG/left_2016_12_01_13_30_48_404.jpg   \n",
      "2   IMG/left_2016_12_01_13_31_12_937.jpg   \n",
      "3   IMG/left_2016_12_01_13_31_13_037.jpg   \n",
      "4   IMG/left_2016_12_01_13_31_13_177.jpg   \n",
      "\n",
      "                                    right  steering  throttle  brake  \\\n",
      "0   IMG/right_2016_12_01_13_30_48_287.jpg       0.0       0.0    0.0   \n",
      "1   IMG/right_2016_12_01_13_30_48_404.jpg       0.0       0.0    0.0   \n",
      "2   IMG/right_2016_12_01_13_31_12_937.jpg       0.0       0.0    0.0   \n",
      "3   IMG/right_2016_12_01_13_31_13_037.jpg       0.0       0.0    0.0   \n",
      "4   IMG/right_2016_12_01_13_31_13_177.jpg       0.0       0.0    0.0   \n",
      "\n",
      "       speed  \n",
      "0  22.148290  \n",
      "1  21.879630  \n",
      "2   1.453011  \n",
      "3   1.438419  \n",
      "4   1.418236  \n",
      "\n",
      "--------------------------------\n",
      "Dataset Description \n",
      "          steering     throttle        brake        speed\n",
      "count  8036.000000  8036.000000  8036.000000  8036.000000\n",
      "mean      0.004070     0.869660     0.001970    28.169839\n",
      "std       0.128840     0.301326     0.036565     6.149327\n",
      "min      -0.942695     0.000000     0.000000     0.502490\n",
      "25%       0.000000     0.985533     0.000000    30.183093\n",
      "50%       0.000000     0.985533     0.000000    30.186400\n",
      "75%       0.000000     0.985533     0.000000    30.186640\n",
      "max       1.000000     0.985533     1.000000    30.709360\n",
      "\n",
      "--------------------------------\n",
      "Steering Angle Distributions \n",
      "\n",
      "\n",
      "steering\n",
      "-0.942695     2\n",
      "-0.933238     1\n",
      "-0.923744     1\n",
      "-0.809811     1\n",
      "-0.771834     1\n",
      "-0.724362     1\n",
      "-0.686385     2\n",
      "-0.629419     2\n",
      "-0.600936     2\n",
      "-0.534475     1\n",
      "-0.524981     2\n",
      "-0.505992     8\n",
      "-0.496498     6\n",
      "-0.477509     1\n",
      "-0.468015     2\n",
      "-0.458520     1\n",
      "-0.449026    17\n",
      "-0.439531    12\n",
      "-0.430037     1\n",
      "-0.420543     4\n",
      "-0.411048    15\n",
      "-0.401554     3\n",
      "-0.392060    10\n",
      "-0.382565     8\n",
      "-0.373071    10\n",
      "-0.354082     9\n",
      "-0.344588     4\n",
      "-0.335094     5\n",
      "-0.325599     9\n",
      "-0.316105    14\n",
      "             ..\n",
      " 0.291405    10\n",
      " 0.300973    37\n",
      " 0.310542    17\n",
      " 0.320110    15\n",
      " 0.329679     2\n",
      " 0.339247     2\n",
      " 0.348816    28\n",
      " 0.358384    36\n",
      " 0.367953    20\n",
      " 0.377521    12\n",
      " 0.387090     3\n",
      " 0.406227     8\n",
      " 0.415796     2\n",
      " 0.425364     1\n",
      " 0.434933     3\n",
      " 0.444501     1\n",
      " 0.454070     8\n",
      " 0.463638     8\n",
      " 0.473207     4\n",
      " 0.482775     3\n",
      " 0.492344     4\n",
      " 0.511481     6\n",
      " 0.578461     3\n",
      " 0.588029     3\n",
      " 0.626303     1\n",
      " 0.635872     1\n",
      " 0.645440     2\n",
      " 0.655009     1\n",
      " 0.731557     1\n",
      " 1.000000     2\n",
      "dtype: int64\n",
      "\n",
      "--------------------------------\n",
      "Box and Whisker Plots \n",
      "\n"
     ]
    },
    {
     "data": {
      "image/png": "[encoded data removed]",
      "text/plain": [
       "<matplotlib.figure.Figure at 0x7f7272882ef0>"
      ]
     },
     "metadata": {},
     "output_type": "display_data"
    },
    {
     "name": "stdout",
     "output_type": "stream",
     "text": [
      "\n",
      "--------------------------------\n",
      "Histograms \n",
      "\n"
     ]
    },
    {
     "data": {
      "image/png": "[encoded data removed]",
      "text/plain": [
       "<matplotlib.figure.Figure at 0x7f72635bf940>"
      ]
     },
     "metadata": {},
     "output_type": "display_data"
    },
    {
     "name": "stdout",
     "output_type": "stream",
     "text": [
      "\n",
      "--------------------------------\n",
      "End - Stats and Visualization for - FileName : data/fromudacity/driving_log.csv\n"
     ]
    }
   ],
   "source": [
    "# Generate Statistics for - Udacity Data\n",
    "\n",
    "const_udacity_data_csv_path = const_udacity_data_folder_name + const_csv_filename\n",
    "const_udacity_data_images_folder_path = const_udacity_data_folder_name + const_image_foldername\n",
    "\n",
    "generate_stats_and_visualization(const_udacity_data_csv_path, True)"
   ]
  },
  {
   "cell_type": "code",
   "execution_count": 13,
   "metadata": {
    "collapsed": false,
    "deletable": true,
    "editable": true
   },
   "outputs": [
    {
     "name": "stdout",
     "output_type": "stream",
     "text": [
      "\n",
      "--------------------------------\n",
      "Start - Stats and Visualization for - FileName : data/fast_track1clockwise/driving_log.csv\n",
      "\n",
      "--------------------------------\n",
      "Shape = (2269, 7)\n",
      "\n",
      "--------------------------------\n",
      "Top 5 Rows =                                               center  \\\n",
      "0  /Users/jai/Desktop/BitBucket/UDSDC/GitHubSubmi...   \n",
      "1  /Users/jai/Desktop/BitBucket/UDSDC/GitHubSubmi...   \n",
      "2  /Users/jai/Desktop/BitBucket/UDSDC/GitHubSubmi...   \n",
      "3  /Users/jai/Desktop/BitBucket/UDSDC/GitHubSubmi...   \n",
      "4  /Users/jai/Desktop/BitBucket/UDSDC/GitHubSubmi...   \n",
      "\n",
      "                                                left  \\\n",
      "0  /Users/jai/Desktop/BitBucket/UDSDC/GitHubSubmi...   \n",
      "1  /Users/jai/Desktop/BitBucket/UDSDC/GitHubSubmi...   \n",
      "2  /Users/jai/Desktop/BitBucket/UDSDC/GitHubSubmi...   \n",
      "3  /Users/jai/Desktop/BitBucket/UDSDC/GitHubSubmi...   \n",
      "4  /Users/jai/Desktop/BitBucket/UDSDC/GitHubSubmi...   \n",
      "\n",
      "                                               right  steering  throttle  \\\n",
      "0  /Users/jai/Desktop/BitBucket/UDSDC/GitHubSubmi...       0.0       0.0   \n",
      "1  /Users/jai/Desktop/BitBucket/UDSDC/GitHubSubmi...       0.0       0.0   \n",
      "2  /Users/jai/Desktop/BitBucket/UDSDC/GitHubSubmi...       0.0       0.0   \n",
      "3  /Users/jai/Desktop/BitBucket/UDSDC/GitHubSubmi...       0.0       0.0   \n",
      "4  /Users/jai/Desktop/BitBucket/UDSDC/GitHubSubmi...       0.0       0.0   \n",
      "\n",
      "   brake     speed  \n",
      "0      0  14.62582  \n",
      "1      0  15.05047  \n",
      "2      0  14.93171  \n",
      "3      0  14.81382  \n",
      "4      0  14.21804  \n",
      "\n",
      "--------------------------------\n",
      "Dataset Description \n",
      "          steering     throttle   brake        speed\n",
      "count  2269.000000  2269.000000  2269.0  2269.000000\n",
      "mean     -0.047469     0.281703     0.0    19.097374\n",
      "std       0.140644     0.396688     0.0     6.735386\n",
      "min      -0.950000     0.000000     0.0     8.743056\n",
      "25%      -0.050000     0.000000     0.0    13.199680\n",
      "50%       0.000000     0.000000     0.0    18.214850\n",
      "75%       0.000000     0.450756     0.0    23.950460\n",
      "max       0.741873     1.000000     0.0    30.675260\n",
      "\n",
      "--------------------------------\n",
      "Steering Angle Distributions \n",
      "\n",
      "\n",
      "steering\n",
      "-0.950000    1\n",
      "-0.905140    1\n",
      "-0.750000    1\n",
      "-0.683670    1\n",
      "-0.649504    1\n",
      "-0.619761    1\n",
      "-0.600000    2\n",
      "-0.590349    1\n",
      "-0.581826    1\n",
      "-0.580154    1\n",
      "-0.574749    1\n",
      "-0.574466    1\n",
      "-0.565680    1\n",
      "-0.559167    1\n",
      "-0.550000    3\n",
      "-0.544111    1\n",
      "-0.543602    1\n",
      "-0.537404    1\n",
      "-0.537056    1\n",
      "-0.532833    1\n",
      "-0.523233    1\n",
      "-0.521985    1\n",
      "-0.510318    1\n",
      "-0.504415    1\n",
      "-0.500000    2\n",
      "-0.499734    1\n",
      "-0.494169    1\n",
      "-0.490212    1\n",
      "-0.465453    1\n",
      "-0.460245    1\n",
      "            ..\n",
      " 0.294081    1\n",
      " 0.299718    1\n",
      " 0.300000    1\n",
      " 0.331092    1\n",
      " 0.334668    1\n",
      " 0.350000    3\n",
      " 0.359778    1\n",
      " 0.360036    1\n",
      " 0.384567    1\n",
      " 0.384624    1\n",
      " 0.394953    1\n",
      " 0.396424    1\n",
      " 0.400000    3\n",
      " 0.418164    1\n",
      " 0.419163    1\n",
      " 0.423903    1\n",
      " 0.431883    1\n",
      " 0.435981    1\n",
      " 0.450000    1\n",
      " 0.471759    1\n",
      " 0.499899    1\n",
      " 0.531092    1\n",
      " 0.534300    1\n",
      " 0.550000    1\n",
      " 0.596424    1\n",
      " 0.598680    1\n",
      " 0.600000    1\n",
      " 0.612162    1\n",
      " 0.625692    1\n",
      " 0.741873    1\n",
      "dtype: int64\n",
      "\n",
      "--------------------------------\n",
      "Box and Whisker Plots \n",
      "\n"
     ]
    },
    {
     "data": {
      "image/png": "[encoded data removed]",
      "text/plain": [
       "<matplotlib.figure.Figure at 0x7f726351a4e0>"
      ]
     },
     "metadata": {},
     "output_type": "display_data"
    },
    {
     "name": "stdout",
     "output_type": "stream",
     "text": [
      "\n",
      "--------------------------------\n",
      "Histograms \n",
      "\n"
     ]
    },
    {
     "data": {
      "image/png": "[encoded data removed]",
      "text/plain": [
       "<matplotlib.figure.Figure at 0x7f7261078630>"
      ]
     },
     "metadata": {},
     "output_type": "display_data"
    },
    {
     "name": "stdout",
     "output_type": "stream",
     "text": [
      "\n",
      "--------------------------------\n",
      "End - Stats and Visualization for - FileName : data/fast_track1clockwise/driving_log.csv\n"
     ]
    }
   ],
   "source": [
    "# Generate Statistics for - My Data - Fast Driving - Track 1 - Clockwise\n",
    "\n",
    "const_my_data_fast_track1_clockwise_csv_path = const_my_data_fast_track1_clockwise_folder_name + const_csv_filename\n",
    "const_my_data_fast_track1_clockwise_images_folder_path = const_my_data_fast_track1_clockwise_folder_name + const_image_foldername\n",
    "\n",
    "generate_stats_and_visualization(const_my_data_fast_track1_clockwise_csv_path, False)"
   ]
  },
  {
   "cell_type": "code",
   "execution_count": 14,
   "metadata": {
    "collapsed": false,
    "deletable": true,
    "editable": true
   },
   "outputs": [
    {
     "name": "stdout",
     "output_type": "stream",
     "text": [
      "\n",
      "--------------------------------\n",
      "Start - Stats and Visualization for - FileName : data/fast_track1counterclockwise/driving_log.csv\n",
      "\n",
      "--------------------------------\n",
      "Shape = (1582, 7)\n",
      "\n",
      "--------------------------------\n",
      "Top 5 Rows =                                               center  \\\n",
      "0  /Users/jai/Desktop/BitBucket/UDSDC/GitHubSubmi...   \n",
      "1  /Users/jai/Desktop/BitBucket/UDSDC/GitHubSubmi...   \n",
      "2  /Users/jai/Desktop/BitBucket/UDSDC/GitHubSubmi...   \n",
      "3  /Users/jai/Desktop/BitBucket/UDSDC/GitHubSubmi...   \n",
      "4  /Users/jai/Desktop/BitBucket/UDSDC/GitHubSubmi...   \n",
      "\n",
      "                                                left  \\\n",
      "0  /Users/jai/Desktop/BitBucket/UDSDC/GitHubSubmi...   \n",
      "1  /Users/jai/Desktop/BitBucket/UDSDC/GitHubSubmi...   \n",
      "2  /Users/jai/Desktop/BitBucket/UDSDC/GitHubSubmi...   \n",
      "3  /Users/jai/Desktop/BitBucket/UDSDC/GitHubSubmi...   \n",
      "4  /Users/jai/Desktop/BitBucket/UDSDC/GitHubSubmi...   \n",
      "\n",
      "                                               right  steering  throttle  \\\n",
      "0  /Users/jai/Desktop/BitBucket/UDSDC/GitHubSubmi...       0.0       0.0   \n",
      "1  /Users/jai/Desktop/BitBucket/UDSDC/GitHubSubmi...       0.0       0.0   \n",
      "2  /Users/jai/Desktop/BitBucket/UDSDC/GitHubSubmi...       0.0       0.0   \n",
      "3  /Users/jai/Desktop/BitBucket/UDSDC/GitHubSubmi...       0.0       0.0   \n",
      "4  /Users/jai/Desktop/BitBucket/UDSDC/GitHubSubmi...       0.0       0.0   \n",
      "\n",
      "   brake     speed  \n",
      "0      0  13.00631  \n",
      "1      0  13.48446  \n",
      "2      0  12.83587  \n",
      "3      0  12.72663  \n",
      "4      0  12.61813  \n",
      "\n",
      "--------------------------------\n",
      "Dataset Description \n",
      "          steering     throttle   brake        speed\n",
      "count  1582.000000  1582.000000  1582.0  1582.000000\n",
      "mean      0.032877     0.691387     0.0    26.868991\n",
      "std       0.177039     0.440905     0.0     5.076601\n",
      "min      -0.868261     0.000000     0.0    12.034760\n",
      "25%       0.000000     0.043864     0.0    24.207070\n",
      "50%       0.000000     1.000000     0.0    30.187720\n",
      "75%       0.000000     1.000000     0.0    30.190290\n",
      "max       0.850036     1.000000     0.0    30.300790\n",
      "\n",
      "--------------------------------\n",
      "Steering Angle Distributions \n",
      "\n",
      "\n",
      "steering\n",
      "-0.868261    1\n",
      "-0.862263    1\n",
      "-0.811458    1\n",
      "-0.785850    1\n",
      "-0.700000    1\n",
      "-0.661458    1\n",
      "-0.657496    1\n",
      "-0.657291    1\n",
      "-0.639333    1\n",
      "-0.550000    2\n",
      "-0.539427    1\n",
      "-0.500000    1\n",
      "-0.490037    1\n",
      "-0.479637    1\n",
      "-0.468267    1\n",
      "-0.468003    1\n",
      "-0.465491    1\n",
      "-0.461458    1\n",
      "-0.450000    1\n",
      "-0.446357    1\n",
      "-0.441605    1\n",
      "-0.421306    1\n",
      "-0.420216    1\n",
      "-0.408252    1\n",
      "-0.403952    1\n",
      "-0.398069    1\n",
      "-0.388700    1\n",
      "-0.385497    1\n",
      "-0.372590    1\n",
      "-0.367352    1\n",
      "            ..\n",
      " 0.547800    1\n",
      " 0.550000    1\n",
      " 0.551541    1\n",
      " 0.552840    1\n",
      " 0.554295    1\n",
      " 0.560206    1\n",
      " 0.563916    1\n",
      " 0.587062    1\n",
      " 0.588504    1\n",
      " 0.588993    1\n",
      " 0.594956    1\n",
      " 0.600000    2\n",
      " 0.603471    1\n",
      " 0.607517    1\n",
      " 0.607855    1\n",
      " 0.625357    1\n",
      " 0.630555    1\n",
      " 0.637656    1\n",
      " 0.650000    2\n",
      " 0.660207    1\n",
      " 0.664245    1\n",
      " 0.689286    1\n",
      " 0.700000    1\n",
      " 0.738534    1\n",
      " 0.754710    1\n",
      " 0.794956    1\n",
      " 0.796548    1\n",
      " 0.800000    1\n",
      " 0.844462    1\n",
      " 0.850036    1\n",
      "dtype: int64\n",
      "\n",
      "--------------------------------\n",
      "Box and Whisker Plots \n",
      "\n"
     ]
    },
    {
     "data": {
      "image/png": "[encoded data removed]",
      "text/plain": [
       "<matplotlib.figure.Figure at 0x7f7260f05eb8>"
      ]
     },
     "metadata": {},
     "output_type": "display_data"
    },
    {
     "name": "stdout",
     "output_type": "stream",
     "text": [
      "\n",
      "--------------------------------\n",
      "Histograms \n",
      "\n"
     ]
    },
    {
     "data": {
      "image/png": "[encoded data removed]",
      "text/plain": [
       "<matplotlib.figure.Figure at 0x7f7260d3f048>"
      ]
     },
     "metadata": {},
     "output_type": "display_data"
    },
    {
     "name": "stdout",
     "output_type": "stream",
     "text": [
      "\n",
      "--------------------------------\n",
      "End - Stats and Visualization for - FileName : data/fast_track1counterclockwise/driving_log.csv\n"
     ]
    }
   ],
   "source": [
    "# Generate Statistics for - My Data - Fast Driving - Track 1 - Counter Clockwise\n",
    "\n",
    "const_my_data_fast_track1_counter_clockwise_csv_path = const_my_data_fast_track1_counterclockwise_folder_name + const_csv_filename\n",
    "const_my_data_fast_track1_counter_clockwise_images_folder_path = const_my_data_fast_track1_counterclockwise_folder_name + const_image_foldername\n",
    "\n",
    "generate_stats_and_visualization(const_my_data_fast_track1_counter_clockwise_csv_path, False)"
   ]
  },
  {
   "cell_type": "code",
   "execution_count": 15,
   "metadata": {
    "collapsed": false
   },
   "outputs": [
    {
     "name": "stdout",
     "output_type": "stream",
     "text": [
      "\n",
      "--------------------------------\n",
      "Start - Stats and Visualization for - FileName : data/fast_track1counterclockwise/driving_log.csv\n",
      "\n",
      "--------------------------------\n",
      "Shape = (1582, 7)\n",
      "\n",
      "--------------------------------\n",
      "Top 5 Rows =                                               center  \\\n",
      "0  /Users/jai/Desktop/BitBucket/UDSDC/GitHubSubmi...   \n",
      "1  /Users/jai/Desktop/BitBucket/UDSDC/GitHubSubmi...   \n",
      "2  /Users/jai/Desktop/BitBucket/UDSDC/GitHubSubmi...   \n",
      "3  /Users/jai/Desktop/BitBucket/UDSDC/GitHubSubmi...   \n",
      "4  /Users/jai/Desktop/BitBucket/UDSDC/GitHubSubmi...   \n",
      "\n",
      "                                                left  \\\n",
      "0  /Users/jai/Desktop/BitBucket/UDSDC/GitHubSubmi...   \n",
      "1  /Users/jai/Desktop/BitBucket/UDSDC/GitHubSubmi...   \n",
      "2  /Users/jai/Desktop/BitBucket/UDSDC/GitHubSubmi...   \n",
      "3  /Users/jai/Desktop/BitBucket/UDSDC/GitHubSubmi...   \n",
      "4  /Users/jai/Desktop/BitBucket/UDSDC/GitHubSubmi...   \n",
      "\n",
      "                                               right  steering  throttle  \\\n",
      "0  /Users/jai/Desktop/BitBucket/UDSDC/GitHubSubmi...       0.0       0.0   \n",
      "1  /Users/jai/Desktop/BitBucket/UDSDC/GitHubSubmi...       0.0       0.0   \n",
      "2  /Users/jai/Desktop/BitBucket/UDSDC/GitHubSubmi...       0.0       0.0   \n",
      "3  /Users/jai/Desktop/BitBucket/UDSDC/GitHubSubmi...       0.0       0.0   \n",
      "4  /Users/jai/Desktop/BitBucket/UDSDC/GitHubSubmi...       0.0       0.0   \n",
      "\n",
      "   brake     speed  \n",
      "0      0  13.00631  \n",
      "1      0  13.48446  \n",
      "2      0  12.83587  \n",
      "3      0  12.72663  \n",
      "4      0  12.61813  \n",
      "\n",
      "--------------------------------\n",
      "Dataset Description \n",
      "          steering     throttle   brake        speed\n",
      "count  1582.000000  1582.000000  1582.0  1582.000000\n",
      "mean      0.032877     0.691387     0.0    26.868991\n",
      "std       0.177039     0.440905     0.0     5.076601\n",
      "min      -0.868261     0.000000     0.0    12.034760\n",
      "25%       0.000000     0.043864     0.0    24.207070\n",
      "50%       0.000000     1.000000     0.0    30.187720\n",
      "75%       0.000000     1.000000     0.0    30.190290\n",
      "max       0.850036     1.000000     0.0    30.300790\n",
      "\n",
      "--------------------------------\n",
      "Steering Angle Distributions \n",
      "\n",
      "\n",
      "steering\n",
      "-0.868261    1\n",
      "-0.862263    1\n",
      "-0.811458    1\n",
      "-0.785850    1\n",
      "-0.700000    1\n",
      "-0.661458    1\n",
      "-0.657496    1\n",
      "-0.657291    1\n",
      "-0.639333    1\n",
      "-0.550000    2\n",
      "-0.539427    1\n",
      "-0.500000    1\n",
      "-0.490037    1\n",
      "-0.479637    1\n",
      "-0.468267    1\n",
      "-0.468003    1\n",
      "-0.465491    1\n",
      "-0.461458    1\n",
      "-0.450000    1\n",
      "-0.446357    1\n",
      "-0.441605    1\n",
      "-0.421306    1\n",
      "-0.420216    1\n",
      "-0.408252    1\n",
      "-0.403952    1\n",
      "-0.398069    1\n",
      "-0.388700    1\n",
      "-0.385497    1\n",
      "-0.372590    1\n",
      "-0.367352    1\n",
      "            ..\n",
      " 0.547800    1\n",
      " 0.550000    1\n",
      " 0.551541    1\n",
      " 0.552840    1\n",
      " 0.554295    1\n",
      " 0.560206    1\n",
      " 0.563916    1\n",
      " 0.587062    1\n",
      " 0.588504    1\n",
      " 0.588993    1\n",
      " 0.594956    1\n",
      " 0.600000    2\n",
      " 0.603471    1\n",
      " 0.607517    1\n",
      " 0.607855    1\n",
      " 0.625357    1\n",
      " 0.630555    1\n",
      " 0.637656    1\n",
      " 0.650000    2\n",
      " 0.660207    1\n",
      " 0.664245    1\n",
      " 0.689286    1\n",
      " 0.700000    1\n",
      " 0.738534    1\n",
      " 0.754710    1\n",
      " 0.794956    1\n",
      " 0.796548    1\n",
      " 0.800000    1\n",
      " 0.844462    1\n",
      " 0.850036    1\n",
      "dtype: int64\n",
      "\n",
      "--------------------------------\n",
      "Box and Whisker Plots \n",
      "\n"
     ]
    },
    {
     "data": {
      "image/png": "[encoded data removed]",
      "text/plain": [
       "<matplotlib.figure.Figure at 0x7f726332e5f8>"
      ]
     },
     "metadata": {},
     "output_type": "display_data"
    },
    {
     "name": "stdout",
     "output_type": "stream",
     "text": [
      "\n",
      "--------------------------------\n",
      "Histograms \n",
      "\n"
     ]
    },
    {
     "data": {
      "image/png": "[encoded data removed]",
      "text/plain": [
       "<matplotlib.figure.Figure at 0x7f7260e811d0>"
      ]
     },
     "metadata": {},
     "output_type": "display_data"
    },
    {
     "name": "stdout",
     "output_type": "stream",
     "text": [
      "\n",
      "--------------------------------\n",
      "End - Stats and Visualization for - FileName : data/fast_track1counterclockwise/driving_log.csv\n"
     ]
    }
   ],
   "source": [
    "# Generate Statistics for - My Data - Fast Driving - Track 1 - Counter Clockwise\n",
    "\n",
    "const_my_data_fast_track1_counter_clockwise_csv_path = const_my_data_fast_track1_counterclockwise_folder_name + const_csv_filename\n",
    "const_my_data_fast_track1_counter_clockwise_images_folder_path = const_my_data_fast_track1_counterclockwise_folder_name + const_image_foldername\n",
    "\n",
    "generate_stats_and_visualization(const_my_data_fast_track1_counter_clockwise_csv_path, False)"
   ]
  },
  {
   "cell_type": "code",
   "execution_count": 16,
   "metadata": {
    "collapsed": false
   },
   "outputs": [
    {
     "name": "stdout",
     "output_type": "stream",
     "text": [
      "\n",
      "--------------------------------\n",
      "Start - Stats and Visualization for - FileName : data/mydata_track1_curves_cw/driving_log.csv\n",
      "\n",
      "--------------------------------\n",
      "Shape = (2098, 7)\n",
      "\n",
      "--------------------------------\n",
      "Top 5 Rows =                                               center  \\\n",
      "0  /Users/jai/Desktop/BitBucket/UDSDC/GitHubSubmi...   \n",
      "1  /Users/jai/Desktop/BitBucket/UDSDC/GitHubSubmi...   \n",
      "2  /Users/jai/Desktop/BitBucket/UDSDC/GitHubSubmi...   \n",
      "3  /Users/jai/Desktop/BitBucket/UDSDC/GitHubSubmi...   \n",
      "4  /Users/jai/Desktop/BitBucket/UDSDC/GitHubSubmi...   \n",
      "\n",
      "                                                left  \\\n",
      "0  /Users/jai/Desktop/BitBucket/UDSDC/GitHubSubmi...   \n",
      "1  /Users/jai/Desktop/BitBucket/UDSDC/GitHubSubmi...   \n",
      "2  /Users/jai/Desktop/BitBucket/UDSDC/GitHubSubmi...   \n",
      "3  /Users/jai/Desktop/BitBucket/UDSDC/GitHubSubmi...   \n",
      "4  /Users/jai/Desktop/BitBucket/UDSDC/GitHubSubmi...   \n",
      "\n",
      "                                               right  steering  throttle  \\\n",
      "0  /Users/jai/Desktop/BitBucket/UDSDC/GitHubSubmi...       0.0       0.0   \n",
      "1  /Users/jai/Desktop/BitBucket/UDSDC/GitHubSubmi...       0.0       0.0   \n",
      "2  /Users/jai/Desktop/BitBucket/UDSDC/GitHubSubmi...       0.0       0.0   \n",
      "3  /Users/jai/Desktop/BitBucket/UDSDC/GitHubSubmi...       0.0       0.0   \n",
      "4  /Users/jai/Desktop/BitBucket/UDSDC/GitHubSubmi...       0.0       0.0   \n",
      "\n",
      "   brake     speed  \n",
      "0    0.0  6.777996  \n",
      "1    0.0  6.723518  \n",
      "2    0.0  6.682948  \n",
      "3    0.0  6.615873  \n",
      "4    0.0  6.575953  \n",
      "\n",
      "--------------------------------\n",
      "Dataset Description \n",
      "          steering     throttle        brake        speed\n",
      "count  2098.000000  2098.000000  2098.000000  2098.000000\n",
      "mean     -0.038057     0.109921     0.001337    11.329450\n",
      "std       0.172111     0.219046     0.020029     3.507270\n",
      "min      -1.000000     0.000000     0.000000     1.245263\n",
      "25%       0.000000     0.000000     0.000000     9.321509\n",
      "50%       0.000000     0.000000     0.000000    10.801785\n",
      "75%       0.000000     0.126886     0.000000    12.433655\n",
      "max       0.900000     1.000000     0.479913    26.971220\n",
      "\n",
      "--------------------------------\n",
      "Steering Angle Distributions \n",
      "\n",
      "\n",
      "steering\n",
      "-1.000000    1\n",
      "-0.934903    1\n",
      "-0.800000    1\n",
      "-0.782352    1\n",
      "-0.751582    1\n",
      "-0.730599    1\n",
      "-0.721650    1\n",
      "-0.710922    1\n",
      "-0.696028    1\n",
      "-0.650000    2\n",
      "-0.648237    1\n",
      "-0.600000    4\n",
      "-0.598848    1\n",
      "-0.584481    1\n",
      "-0.580797    1\n",
      "-0.579576    1\n",
      "-0.574551    1\n",
      "-0.567510    1\n",
      "-0.551223    1\n",
      "-0.550062    1\n",
      "-0.550000    4\n",
      "-0.546028    1\n",
      "-0.543477    1\n",
      "-0.536778    1\n",
      "-0.536025    1\n",
      "-0.534468    1\n",
      "-0.533796    1\n",
      "-0.532233    1\n",
      "-0.527739    1\n",
      "-0.524121    1\n",
      "            ..\n",
      " 0.451116    1\n",
      " 0.454668    1\n",
      " 0.459447    1\n",
      " 0.460491    1\n",
      " 0.471030    1\n",
      " 0.472809    1\n",
      " 0.480210    1\n",
      " 0.500000    2\n",
      " 0.531573    1\n",
      " 0.533898    1\n",
      " 0.550000    2\n",
      " 0.550404    1\n",
      " 0.576143    1\n",
      " 0.584383    1\n",
      " 0.600000    2\n",
      " 0.634881    1\n",
      " 0.655807    1\n",
      " 0.665706    1\n",
      " 0.671034    1\n",
      " 0.674484    1\n",
      " 0.687336    1\n",
      " 0.696786    1\n",
      " 0.722508    1\n",
      " 0.726143    1\n",
      " 0.734383    1\n",
      " 0.750000    1\n",
      " 0.773544    1\n",
      " 0.824484    1\n",
      " 0.895222    1\n",
      " 0.900000    1\n",
      "dtype: int64\n",
      "\n",
      "--------------------------------\n",
      "Box and Whisker Plots \n",
      "\n"
     ]
    },
    {
     "data": {
      "image/png": "[encoded data removed]",
      "text/plain": [
       "<matplotlib.figure.Figure at 0x7f7263783fd0>"
      ]
     },
     "metadata": {},
     "output_type": "display_data"
    },
    {
     "name": "stdout",
     "output_type": "stream",
     "text": [
      "\n",
      "--------------------------------\n",
      "Histograms \n",
      "\n"
     ]
    },
    {
     "data": {
      "image/png": "[encoded data removed]",
      "text/plain": [
       "<matplotlib.figure.Figure at 0x7f7260f51908>"
      ]
     },
     "metadata": {},
     "output_type": "display_data"
    },
    {
     "name": "stdout",
     "output_type": "stream",
     "text": [
      "\n",
      "--------------------------------\n",
      "End - Stats and Visualization for - FileName : data/mydata_track1_curves_cw/driving_log.csv\n"
     ]
    }
   ],
   "source": [
    "# Generate Statistics for - My Data - Track 1 - Curves - Clockwise\n",
    "\n",
    "const_my_data_track1_curves_cw_csv_path = const_my_data_track1_curves_cw_folder_name + const_csv_filename\n",
    "const_my_data_track1_curves_cw_images_folder_path = const_my_data_track1_curves_cw_csv_path + const_image_foldername\n",
    "\n",
    "generate_stats_and_visualization(const_my_data_track1_curves_cw_csv_path, False)"
   ]
  },
  {
   "cell_type": "code",
   "execution_count": 17,
   "metadata": {
    "collapsed": false
   },
   "outputs": [
    {
     "name": "stdout",
     "output_type": "stream",
     "text": [
      "\n",
      "--------------------------------\n",
      "Start - Stats and Visualization for - FileName : data/mydata_track1_curves_ccw/driving_log.csv\n",
      "\n",
      "--------------------------------\n",
      "Shape = (1649, 7)\n",
      "\n",
      "--------------------------------\n",
      "Top 5 Rows =                                               center  \\\n",
      "0  /Users/jai/Desktop/BitBucket/UDSDC/GitHubSubmi...   \n",
      "1  /Users/jai/Desktop/BitBucket/UDSDC/GitHubSubmi...   \n",
      "2  /Users/jai/Desktop/BitBucket/UDSDC/GitHubSubmi...   \n",
      "3  /Users/jai/Desktop/BitBucket/UDSDC/GitHubSubmi...   \n",
      "4  /Users/jai/Desktop/BitBucket/UDSDC/GitHubSubmi...   \n",
      "\n",
      "                                                left  \\\n",
      "0  /Users/jai/Desktop/BitBucket/UDSDC/GitHubSubmi...   \n",
      "1  /Users/jai/Desktop/BitBucket/UDSDC/GitHubSubmi...   \n",
      "2  /Users/jai/Desktop/BitBucket/UDSDC/GitHubSubmi...   \n",
      "3  /Users/jai/Desktop/BitBucket/UDSDC/GitHubSubmi...   \n",
      "4  /Users/jai/Desktop/BitBucket/UDSDC/GitHubSubmi...   \n",
      "\n",
      "                                               right  steering  throttle  \\\n",
      "0  /Users/jai/Desktop/BitBucket/UDSDC/GitHubSubmi...       0.0       0.0   \n",
      "1  /Users/jai/Desktop/BitBucket/UDSDC/GitHubSubmi...       0.0       0.0   \n",
      "2  /Users/jai/Desktop/BitBucket/UDSDC/GitHubSubmi...       0.0       0.0   \n",
      "3  /Users/jai/Desktop/BitBucket/UDSDC/GitHubSubmi...       0.0       0.0   \n",
      "4  /Users/jai/Desktop/BitBucket/UDSDC/GitHubSubmi...       0.0       0.0   \n",
      "\n",
      "   brake     speed  \n",
      "0    0.0  7.727959  \n",
      "1    0.0  7.665844  \n",
      "2    0.0  7.604229  \n",
      "3    0.0  7.558343  \n",
      "4    0.0  7.497593  \n",
      "\n",
      "--------------------------------\n",
      "Dataset Description \n",
      "          steering     throttle        brake        speed\n",
      "count  1649.000000  1649.000000  1649.000000  1649.000000\n",
      "mean      0.021944     0.188144     0.008548    15.685151\n",
      "std       0.156045     0.317417     0.069920     7.245128\n",
      "min      -0.623433     0.000000     0.000000     4.410286\n",
      "25%       0.000000     0.000000     0.000000     9.615352\n",
      "50%       0.000000     0.000000     0.000000    13.137430\n",
      "75%       0.000000     0.291291     0.000000    21.437090\n",
      "max       0.800000     1.000000     1.000000    30.190800\n",
      "\n",
      "--------------------------------\n",
      "Steering Angle Distributions \n",
      "\n",
      "\n",
      "steering\n",
      "-0.623433    1\n",
      "-0.600000    1\n",
      "-0.599079    1\n",
      "-0.578670    1\n",
      "-0.570278    1\n",
      "-0.550000    2\n",
      "-0.536301    1\n",
      "-0.524022    1\n",
      "-0.520881    1\n",
      "-0.496419    1\n",
      "-0.489486    1\n",
      "-0.488903    1\n",
      "-0.484020    1\n",
      "-0.480904    1\n",
      "-0.474159    1\n",
      "-0.472920    1\n",
      "-0.455889    1\n",
      "-0.451509    1\n",
      "-0.450000    1\n",
      "-0.449901    1\n",
      "-0.441020    1\n",
      "-0.439259    1\n",
      "-0.428670    1\n",
      "-0.425930    1\n",
      "-0.416916    1\n",
      "-0.416612    1\n",
      "-0.407043    1\n",
      "-0.405251    1\n",
      "-0.400000    3\n",
      "-0.396837    1\n",
      "            ..\n",
      " 0.451107    1\n",
      " 0.451122    1\n",
      " 0.453786    1\n",
      " 0.454953    1\n",
      " 0.455796    1\n",
      " 0.463269    1\n",
      " 0.484101    1\n",
      " 0.487899    1\n",
      " 0.493869    1\n",
      " 0.500000    7\n",
      " 0.507939    1\n",
      " 0.513267    1\n",
      " 0.522876    1\n",
      " 0.530259    1\n",
      " 0.543165    1\n",
      " 0.543426    1\n",
      " 0.550000    2\n",
      " 0.550257    1\n",
      " 0.552555    1\n",
      " 0.559710    1\n",
      " 0.600000    2\n",
      " 0.608073    1\n",
      " 0.632151    1\n",
      " 0.638487    1\n",
      " 0.642219    1\n",
      " 0.650000    1\n",
      " 0.720777    1\n",
      " 0.772077    1\n",
      " 0.795285    1\n",
      " 0.800000    1\n",
      "dtype: int64\n",
      "\n",
      "--------------------------------\n",
      "Box and Whisker Plots \n",
      "\n"
     ]
    },
    {
     "data": {
      "image/png": "[encoded data removed]",
      "text/plain": [
       "<matplotlib.figure.Figure at 0x7f72631c1748>"
      ]
     },
     "metadata": {},
     "output_type": "display_data"
    },
    {
     "name": "stdout",
     "output_type": "stream",
     "text": [
      "\n",
      "--------------------------------\n",
      "Histograms \n",
      "\n"
     ]
    },
    {
     "data": {
      "image/png": "[encoded data removed]",
      "text/plain": [
       "<matplotlib.figure.Figure at 0x7f7260f0ab38>"
      ]
     },
     "metadata": {},
     "output_type": "display_data"
    },
    {
     "name": "stdout",
     "output_type": "stream",
     "text": [
      "\n",
      "--------------------------------\n",
      "End - Stats and Visualization for - FileName : data/mydata_track1_curves_ccw/driving_log.csv\n"
     ]
    }
   ],
   "source": [
    "# Generate Statistics for - My Data - Track 1 - Curves - Clockwise\n",
    "\n",
    "const_my_data_track1_curves_ccw_csv_path = const_my_data_track1_curves_ccw_folder_name + const_csv_filename\n",
    "const_my_data_track1_curves_ccw_images_folder_path = const_my_data_track1_curves_ccw_csv_path + const_image_foldername\n",
    "\n",
    "generate_stats_and_visualization(const_my_data_track1_curves_ccw_csv_path, False)"
   ]
  },
  {
   "cell_type": "markdown",
   "metadata": {
    "deletable": true,
    "editable": true
   },
   "source": [
    "## Summary of above dataset(s)"
   ]
  },
  {
   "cell_type": "markdown",
   "metadata": {
    "deletable": true,
    "editable": true
   },
   "source": [
    "* In general we can see from the above distributions, that for steering angle(s), we have a lot of data between -0.1 and + 0.1. Beyond a certain point, additional training will not really add much value to the network\n",
    "\n",
    "* For these limits, or other dynamically defined limits, we can tune the data ingestion process to randomly drop samples for highly represented classes."
   ]
  },
  {
   "cell_type": "markdown",
   "metadata": {
    "deletable": true,
    "editable": true
   },
   "source": [
    "## Experiment 2: Using a Generator approach for loading, processing and training data from CSV file"
   ]
  },
  {
   "cell_type": "code",
   "execution_count": 35,
   "metadata": {
    "collapsed": false,
    "deletable": true,
    "editable": true
   },
   "outputs": [
    {
     "name": "stdout",
     "output_type": "stream",
     "text": [
      "\n",
      "Started Data Reading :data/fromudacity/driving_log.csv\n",
      "\n",
      "Ended Data Reading :data/fromudacity/driving_log.csv\n",
      "\n",
      " # Training images : 6129\n",
      "\n",
      " # Validation images : 6129\n",
      "\n",
      " # Training labels : 6129\n",
      "\n",
      " # Validation labels : 6129\n"
     ]
    }
   ],
   "source": [
    "\n",
    "# Convenience method to read a CSV file and return left, right, center image paths, and parameters like steering angle, throttle etc.\n",
    "\n",
    "def load_csv_file_all_data(filename, param_offset = 0.01):\n",
    "\n",
    "    debugLog(\"Started Data Reading :\" + filename)\n",
    "    paths = list()\n",
    "    steering_angles = list()\n",
    "    with open(filename, 'r') as csvfile:\n",
    "        has_header = csv.Sniffer().has_header(csvfile.read(1024))\n",
    "        infoLog(\"Has Header is \" + str(has_header) + \" for :\" + filename)\n",
    "        csvfile.seek(0)  # rewind\n",
    "        header = csv.reader(csvfile)\n",
    "        if has_header:\n",
    "            next(header)  # skip header row\n",
    "        reader = csv.reader(csvfile, delimiter=',', quotechar='|')\n",
    "        for data_row in reader:\n",
    "                center = data_row[0].strip() # Stripping is important in case there are any unintended leading / trailing spaces in the data\n",
    "                left = data_row[1].strip()\n",
    "                right = data_row[2].strip()\n",
    "                steering = data_row[3]\n",
    "                throttle = data_row[4]\n",
    "                brake = data_row[5]\n",
    "                speed = data_row[6]\n",
    "                                \n",
    "                # Filtering Logic\n",
    "                steering_angle = float(steering)\n",
    "                \n",
    "                steering_left = steering_angle + param_offset\n",
    "                steering_right = steering_angle - param_offset\n",
    "\n",
    "                # Include all images which are under represented\n",
    "                if (steering_angle < -0.1 and steering_angle > float('-inf') ) or (steering_angle > 0.1 and steering_angle < float('inf')):\n",
    "                    paths.append(left)\n",
    "                    paths.append(center)\n",
    "                    paths.append(right)\n",
    "                    \n",
    "                    steering_angles.append(steering_left)\n",
    "                    steering_angles.append(steering)\n",
    "                    steering_angles.append(steering_right)\n",
    "\n",
    "                # Include 50% of images which are over represented\n",
    "                else:\n",
    "                    index = np.random.randint(0, 100)\n",
    "                    if index >= 0 and index < 33:\n",
    "                        paths.append(left)\n",
    "                        paths.append(center)\n",
    "                        paths.append(right)\n",
    "                    \n",
    "                        steering_angles.append(steering_left)\n",
    "                        steering_angles.append(steering)\n",
    "                        steering_angles.append(steering_right)\n",
    "                        \n",
    "    debugLog(\"Ended Data Reading :\" + filename)\n",
    "    return paths, steering_angles\n",
    "\n",
    "\n",
    "print_memory_usage()\n",
    "paths, steering_angles = load_csv_file_all_data('data/fromudacity/driving_log.csv')\n",
    "print_memory_usage()\n",
    "\n",
    "# Separate out data into training and validation\n",
    "X_train, X_validation, y_train, y_validation = train_test_split(paths, steering_angles, test_size=const_validation_data_ratio, random_state=5)\n",
    "\n",
    "debugLog(\" # Training images : \" + str(len(X_train)))\n",
    "debugLog(\" # Validation images : \" + str(len(X_validation)))\n",
    "debugLog(\" # Training labels : \" + str(len(y_train)))\n",
    "debugLog(\" # Validation labels : \" + str(len(y_validation)))"
   ]
  },
  {
   "cell_type": "code",
   "execution_count": 37,
   "metadata": {
    "collapsed": true,
    "deletable": true,
    "editable": true
   },
   "outputs": [],
   "source": [
    "# Writing a generator which yields an iterable 'batch_size' number of images from the above samples\n",
    "\n",
    "def load_images_generator(filepaths, labels, batch_size, prefix=None):\n",
    "    # The reason for infinity iteration -> http://stackoverflow.com/questions/37798410/why-does-this-python-generator-have-no-output-according-to-keras\n",
    "    while True:\n",
    "        offset = 0\n",
    "        for offset in range(0,len(filepaths),batch_size):\n",
    "            batch_images_paths = filepaths[offset:offset+batch_size]\n",
    "            batch_images = list()\n",
    "            batch_labels = labels[offset:offset+batch_size]\n",
    "            for image_path in batch_images_paths:\n",
    "                if prefix:\n",
    "                    image_path = prefix + image_path\n",
    "                else:\n",
    "                    image_path = get_relative_path(image_path)\n",
    "                image = cv2.imread(image_path)\n",
    "                batch_images.append(image)\n",
    "            batch_images = np.array(batch_images)\n",
    "            batch_labels = np.array(batch_labels)\n",
    "            yield sklearn.utils.shuffle(batch_images, batch_labels)\n",
    "    "
   ]
  },
  {
   "cell_type": "code",
   "execution_count": null,
   "metadata": {
    "collapsed": false,
    "deletable": true,
    "editable": true
   },
   "outputs": [],
   "source": [
    "visualize_image_from(X_train,y_train,'data/fromudacity/')\n"
   ]
  },
  {
   "cell_type": "code",
   "execution_count": null,
   "metadata": {
    "collapsed": false,
    "deletable": true,
    "editable": true
   },
   "outputs": [],
   "source": [
    "# Define training generator and validation generator\n",
    "\n",
    "train_generator = load_images_generator(X_train,y_train,32,'data/fromudacity/')\n",
    "validation_generator = load_images_generator(X_validation, y_validation,32, 'data/fromudacity/')\n"
   ]
  },
  {
   "cell_type": "code",
   "execution_count": 45,
   "metadata": {
    "collapsed": false,
    "deletable": true,
    "editable": true
   },
   "outputs": [],
   "source": [
    "\n",
    "# Convenience method to train a model given a specified CSV file path to the data set\n",
    "# The model can be a fresh ( randomly initialized ) model, or a model which has been saved and restored from the Disk\n",
    "# After the completion of training, the best model is saved to disk and also returned\n",
    "\n",
    "def train_model_for_csv_file_alldata(param_model, param_model_desc_name, csv_file_path, param_epochs = 2, param_steering_offset=0.02, param_batch_size = 64 ):\n",
    "        \n",
    "    debugLog(csv_file_path)\n",
    "    \n",
    "    path_prefix = 'data/fromudacity/'\n",
    "    # TODO: A bit awkward to separate Udacity Data From Data Generated by me, but works for now\n",
    "    if csv_file_path != const_udacity_data_csv_path:\n",
    "        path_prefix = None\n",
    "        debugLog(\"path_prefix is None because this is a non-udacity data file.\")\n",
    "    else:\n",
    "        debugLog(\"path_prefix is : \" + csv_file_path)\n",
    "    \n",
    "    # Load and Filter the Data - Only keep the Data we care about ( randomly drop oversampled data ) and return filtered arrays\n",
    "    paths, steering_angles = load_csv_file_all_data(csv_file_path, param_steering_offset)    \n",
    "    \n",
    "    \n",
    "    # Separate out data into training and validation\n",
    "    X_train, X_validation, y_train, y_validation = train_test_split(paths, steering_angles, test_size=const_validation_data_ratio, random_state=5)\n",
    "    debugLog(\" # Training images : \" + str(len(X_train)))\n",
    "    debugLog(\" # Validation images : \" + str(len(X_validation)))\n",
    "    debugLog(\" # Training labels : \" + str(len(y_train)))\n",
    "    debugLog(\" # Validation labels : \" + str(len(y_validation)))\n",
    "    \n",
    "    # Start training process\n",
    "\n",
    "    # Define Checkpoint and Early Stopping\n",
    "    model_filepath = const_model_filename_prefix + model_desc_name + str(get_current_human_readable_time()) + \"-{epoch:02d}-{val_acc:.2f}\" + const_model_filename_postfix\n",
    "    model_checkpoint = ModelCheckpoint(model_filepath, monitor='val_loss', verbose=1, save_best_only=True, mode='max')\n",
    "    early_stopping = EarlyStopping(monitor='val_loss', patience=4, verbose=0)\n",
    "    model_callbacks_list = [model_checkpoint, early_stopping]\n",
    "\n",
    "    train_generator = load_images_generator(X_train, y_train, param_batch_size, path_prefix)\n",
    "    validation_generator = load_images_generator(X_validation, y_validation, param_batch_size, path_prefix)\n",
    "    start_time = get_current_time()\n",
    "    debugLog(get_current_human_readable_time())\n",
    "    model_history = param_model.fit_generator(train_generator, samples_per_epoch = len(X_train), validation_data = validation_generator, nb_val_samples = len(X_validation), nb_epoch = param_epochs, callbacks = model_callbacks_list)\n",
    "    debugLog(model_history.history.keys())\n",
    "    end_time = get_current_time()\n",
    "    debugLog(get_current_human_readable_time())\n",
    "    print_time_diff(start_time,end_time,\"Training \" + param_model_desc_name + \" for \" + str(param_epochs) + \" epochs\")    \n",
    "    # Generate plot of accuracy over epochs\n",
    "    plot_keras_history_object(model_history,param_model_desc_name)\n",
    "    \n",
    "    val_loss_str = \"val_loss_\" + str(model_history.history.get(\"val_loss\", \"unknown\"))\n",
    "    model_save_filename = const_model_filename_prefix + model_desc_name + str(get_current_human_readable_time()) + val_loss_str + const_model_filename_postfix\n",
    "    param_model.save(model_save_filename)\n",
    "    debugLog(\"Saved model with name : \" + model_save_filename)\n",
    "\n",
    "    # Return the Model\n",
    "    return param_model\n",
    "        "
   ]
  },
  {
   "cell_type": "code",
   "execution_count": null,
   "metadata": {
    "collapsed": false,
    "deletable": true,
    "editable": true
   },
   "outputs": [],
   "source": [
    "# Train the 'Simple Model'\n",
    "\n",
    "# Define the model\n",
    "simple_model, model_desc_name = get_simple_model()\n",
    "\n",
    "train_model_for_csv_file(simple_model, model_desc_name, const_udacity_data_csv_path)\n"
   ]
  },
  {
   "cell_type": "code",
   "execution_count": null,
   "metadata": {
    "collapsed": false,
    "deletable": true,
    "editable": true
   },
   "outputs": [],
   "source": [
    "# Train 'My Model'\n",
    "\n",
    "my_model, model_desc_name = get_my_model()\n",
    "\n",
    "train_model_for_csv_file(my_model, model_desc_name, const_udacity_data_csv_path)\n"
   ]
  },
  {
   "cell_type": "code",
   "execution_count": 48,
   "metadata": {
    "collapsed": false,
    "deletable": true,
    "editable": true
   },
   "outputs": [
    {
     "name": "stdout",
     "output_type": "stream",
     "text": [
      "\n",
      "model_nvidia_cnn_model2017-05-07T13:51:25.838996-00-0.12_curve1_better_but_failure.h5\n",
      "\n",
      "<keras.models.Sequential object at 0x7f7247d3dc50>\n",
      "\n",
      "[<keras.layers.convolutional.Cropping2D object at 0x7f7247d3da58>, <keras.layers.core.Lambda object at 0x7f7247d3def0>, <keras.layers.convolutional.Convolution2D object at 0x7f725caf7fd0>, <keras.layers.core.Activation object at 0x7f725c32f630>, <keras.layers.convolutional.Convolution2D object at 0x7f725d3530b8>, <keras.layers.core.Activation object at 0x7f725d34ba20>, <keras.layers.convolutional.Convolution2D object at 0x7f7247cfbb70>, <keras.layers.core.Activation object at 0x7f725cb28588>, <keras.layers.convolutional.Convolution2D object at 0x7f725cb28940>, <keras.layers.core.Activation object at 0x7f7247d12390>, <keras.layers.convolutional.Convolution2D object at 0x7f7247d12748>, <keras.layers.core.Activation object at 0x7f725c522198>, <keras.layers.core.Flatten object at 0x7f725c522550>, <keras.layers.core.Dense object at 0x7f725c524f60>, <keras.layers.core.Activation object at 0x7f725c4ed668>, <keras.layers.core.Dense object at 0x7f725c4edd68>, <keras.layers.core.Activation object at 0x7f725c55e400>, <keras.layers.core.Dense object at 0x7f725c55e7b8>, <keras.layers.core.Activation object at 0x7f725c5504a8>, <keras.layers.core.Dropout object at 0x7f725c550f98>, <keras.layers.core.Dense object at 0x7f725c550fd0>]\n",
      "\n",
      "data/fromudacity/driving_log.csv\n",
      "\n",
      "path_prefix is : data/fromudacity/driving_log.csv\n",
      "\n",
      "Started Data Reading :data/fromudacity/driving_log.csv\n",
      "\n",
      "Ended Data Reading :data/fromudacity/driving_log.csv\n",
      "\n",
      " # Training images : 6075\n",
      "\n",
      " # Validation images : 6075\n",
      "\n",
      " # Training labels : 6075\n",
      "\n",
      " # Validation labels : 6075\n",
      "\n",
      "2017-05-07T14:11:17.120036\n",
      "Epoch 1/1\n",
      "6000/6075 [============================>.] - ETA: 2s - loss: 0.0174 - acc: 0.1207 - precision: 0.0000e+00 - recall: 0.0000e+00  \b\b\b\b\b\b\b\b\b\b\b\b\b\b\b\b\b\b\b\b\b\b\b\b\b\b\b\b\b\b\b\b\b\b\b\b\b\b\b\b\b\b\b\b\b\b\b\b\b\b\b\b\b\b\b\b\b\b\b\b\b\b\b\b\b\b\b\b\b\b\b\b\b\b\b\b\b\b\b\b\b\b\b\b\b\b\b\b\b\b\b\b\b\b\b\b\b\b\b\b\b\b\b\b\b\b\b\b\b\b\b\b\b\b\b\b\b\b\b\b\b\b\b\b\b\b\b\b\b\b\b\b\b\b\b\b\b\b\b\b\b\b\b\b\b\b\b\b\b\b\b\b\b\b\b\b\b\b\b\b\b\b\b\b\b\b\b\b\b\b\b\b\b\b\b\b\b\b\b\b\b\b\b\b\b\b\b\b\b\b\b\b\b\b\b\b\b\b\b\b\b\b\b\b\b\b\b\b\b\b\b\b\b\b\b\b\b\b\b\b\b\b\b\b\b\b\b\b\b\b\b\b\b\b\b\b\b\b\b\b\b\b\b\b\b\b\b\b\b\b\b\b\b\b\b\b\b\b\b\b\b\b\b\b\b\b\b\b\b\b\b\b\b\b\b\b\b\b\b\b\b\b\b\b\b\b\b\b\b\b\b\b\b\b\b\b\b\b\b\b\b\b\b\b\b\b\b\b\b\b\b\b\b\b\b\b\b\b\b\b\b\b\b\b\b\b\b\b\b\b\b\b\b\b\b\b\b\b\b\b\b\b\b\b\b\b\b\b\b\b\b\b\b\b\b\b\b\b\b\b\b\b\b\b\b\b\b\b\b\b\b\b\b\b\b\b\b\b\b\b\b\b\b\b\b\b\b\b\b\b\b\b\b\b\b\b\b\b\b\b\b\b\b\b\b\b\b\b\b\b\b\b\b\b\b\b\b\b\b\b\b\b\b\b\b\b\b\b\b\b\b\b\b\b\b\b\b\b\b\b\b\b\b\b\b\b\b\b\b\b\b\b\b\b\b\b\b\b\b\b\b\b\b\b\b\b\b\b\b\b\b\b\b\b\b\b\b\b\b\b\b\b\b\b\b\b\b\b\b\b\b\b\b\b\b\b\b\b\b\b\b\b\b\b\b\b\b\b\b\b\b\b\b\b\b\b\b\b\b\b\b\b\b\b\b\b\b\b\b\b\b\b\b\b\b\b\b\b\b\b\b\b\b\b\b\b\b\b\b\b\b\b\b\b\b\b\b\b\b\b\b\b\b\b\b\b\b\b\b\b\b\b\b\b\b\b\b\b\b\b\b\b\b\b\b\b\b\b\b\b\b\b\b\b\b\b\b\b\b\b\b\b\b\b\b\b\b\b\b\b\b\b\b\b\b\b\b\b\b\b\b\b\b\b\b\b\b\b\b\b\b\b\b\b\b\b\b\b\b\b\b\b\b\b\b\b\b\b\b\b\b\b\b\b\b\b\b\b\b\b\b\b\b\b\b\b\b\b\b\b\b\b\b\b\b\b\b\b\b\b\b\b\b\b\b\b\b\b\b\b\b\b\b\b\b\b\b\b\b\b\b\b\b\b\b\b\b\b\b\b\b\b\b\b\b\b\b\b\b\b\b\b\b\b\b\b\b\b\b\b\b\b\b\b\b\b\b\b\b\b\b\b\b\b\b\b\b\b\b\b\b\b\b\b\b\b\b\b\b\b\b\b\b\b\b\b\b\b\b\b\b\b\b\b\b\b\b\b\b\b\b\b\b\b\b\b\b\b\b\b\b\b\b\b\b\b\b\b\b\b\b\b\b\b\b\b\b\b\b\b\b\b\b\b\b\b\b\b\b\b\b\b\b\b\b\b\b\b\b\b\b\b\b\b\b\b\b\b\b\b\b\b\b\b\b\b\b\b\b\b\b\b\b\b\b\b\b\b\b\b\b\b\b\b\b\b\b\b\b\b\b\b\b\b\b\b\b\b\b\b\b\b\b\b\b\b\b\b\b\b\b\b\b\b\b\b\b\b\b\b\b\b\b\b\b\b\b\b\b\b\b\b\b\b\b\b\b\b\b\b\b\b\b\b\b\b\b\b\b\b\b\b\b\b\b\b\b\b\b\b\b\b\b\b\b\b\b\b\b\b\b\b\b\b\b\b\b\b\b\b\b\b\b\b\b\b\b\b\b\b\b\b\b\b\b\b\b\b\b\b\b\b\b\b\b\b\b\b\b\b\b\b\b\b\b\b\b\b\b\b\b\b\b\b\b\b\b\b\b\b\b\b\b\b\b\b\b\b\b\b\b\b\b\b\b\b\b\b\b\b\b\b\b\b\b\b\b\b\b\b\b\b\b\b\b\b\b\b\b\b\b\b\b\b\b\b\b\b\b\b\b\b\b\b\b\b\b\b\b\b\b\b\b\b\b\b\b\b\b\b\b\b\b\b\b\b\b\b\b\b\b\b\b\b\b\b\b\b\b\b\b\b\b\b\b\b\b\b\b\b\b\b\b\b\b\b\b\b\b\b\b\b\b\b\b\b\b\b\b\b\b\b\b\b\b\b\b\b\b\b\b\b\b\b\b\b\b\b\b\b\b\b\b\b\b\b\b\b\b\b\b\b\b\b\b\b\b\b\b\b\b\b\b\b\b\b\b\b\b\b\b\b\b\b\b\b\b\b\b\b\b\b\b\b\b\b\b\b\b\b\b\b\b\b\b\b\b\b\b\b\b\b\b\b\b\b\b\b\b\b\b\b\b\b\b\b\b\b\b\b\b\b\b\b\b\b\b\b\b\b\b\b\b\b\b\b\b\b\b\b\b\b\b\b\b\b\b\b\b\b\b\b\b\b\b\b\b\b\b\b\b\b\b\b\b\b\b\b\b\b\b\b\b\b\b\b\b\b\b\b\b\b\b\b\b\b\b\b\b\b\b\b\b\b\b\b\b\b\b\b\b\b\b\b\b\b\b\b\b\b\b\b\b\b\b\b\b\b\b\b\b\b\b\b\b\b\b\b\b\b\b\b\b\b\b\b\b\b\b\b\b\b\b\b\b\b\b\b\b\b\b\b\b\b\b\b\b\b\b\b\b\b\b\b\b\b\b\b\b\b\b\b\b\b\b\b\b\b\b\b\b\b\b\b\b\b\b\b\b\b\b\b\b\b\b\b\b\b\b\b\b\b\b\b\b\b\b\b\b\b\b\b\b\b\b\b\b\b\b\b\b\b\b\b\b\b\b\b\b\b\b\b\b\b\b\b\b\b\b\b\b\b\b\b\b\b\b\b\b\b\b\b\b\b\b\b\b\b\b\b\b\b\b\b\b\b\b\b\b\b\b\b\b\b\b\b\b\b\b\b\b\b\b\b\b\b\b\b\b\b\b\b\b\b\b\b\b\b\b\b\b\b\b\b\b\b\b\b\b\b\b\b\b\b\b\b\b\b\b\b\b\b\b\b\b\b\b\b\b\b\b\b\b\b\b\b\b\b\b\b\b\b\b\b\b\b\b\b\b\b\b\b\b\b\b\b\b\b\b\b\b\b\b\b\b\b\b\b\b\b\b\b\b\b\b\b\b\b\b\b\b\b\b\b\b\b\b\b\b\b\b\b\b\b\b\b\b\b\b\b\b\b\b\b\b\b\b\b\b\b\b\b\b\b\b\b\b\b\b\b\b\b\b\b\b\b\b\b\b\b\b\b\b\b\b\b\b\b\b\b\b\b\b\b\b\b\b\b\b\b\b\b\b\b\b\b\b\b\b\b\b\b\b\b\b\b\b\b\b\b\b\b\b\b\b\b\b\b\b\b\b\b\b\b\b\b\b\b\b\b\b\b\b\b\b\b\b\b\b\b\b\b\b\b\b\b\b\b\b\b\b\b\b\b\b\b\b\b\b\b\b\b\b\b\b\b\b\b\b\b\b\b\b\b\b\b\b\b\b\b\b\b\b\b\b\b\b\b\b\b\b\b\b\b\b\b\b\b\b\b\b\b\b\b\b\b\b\b\b\b\b\b\b\b\b\b\b\b\b\b\b\b\b\b\b\b\b\b\b\b\b\b\b\b\b\b\b\b\b\b\b\b\b\b\b\b\b\b\b\b\b\b\b\b\b\b\b\b\b\b\b\b\b\b\b\b\b\b\b\b\b\b\b\b\b\b\b\b\b\b\b\b\b\b\b\b\b\b\b\b\b\b\b\b\b\b\b\b\b\b\b\b\b\b\b\b\b\b\b\b\b\b\b\b\b\b\b\b\b\b\b\b\b\b\b\b\b\b\b\b\b\b\b\b\b\b\b\b\b\b\b\b\b\b\b\b\b\b\b\b\b\b\b\b\b\b\b\b\b\b\b\b\b\b\b\b\b\b\b\b\b\b\b\b\b\b\b\b\b\b\b\b\b\b\b\b\b\b\b\b\b\b\b\b\b\b\b\b\b\b\b\b\b\b\b\b\b\b\b\b\b\b\b\b\b\b\b\b\b\b\b\b\b\b\b\b\b\b\b\b\b\b\b\b\b\b\b\b\b\b\b\b\b\b\b\b\b\b\b\b\b\b\b\b\b\b\b\b\b\b\b\b\b\b\b\b\b\b\b\b\b\b\b\b\b\b\b\b\b\b\b\b\b\b\b\b\b\b\b\b\b\b\b\b\b\b\b\b\b\b\b\b\b\b\b\b\b\b\b\b\b\b\b\b\b\b\b\b\b\b\b\b\b\b\b\b\b\b\b\b\b\b\b\b\b\b\b\b\b\b\b\b\b\b\b\b\b\b\b\b\b\b\b\b\b\b\b\b\b\b\b\b\b\b\b\b\b\b\b\b\b\b\b\b\b\b\b\b\b\b\b\b\b\b\b\b\b\b\b\b\b\b\b\b\b\b\b\b\b\b\b\b\b\b\b\b\b\b\b\b\b\b\b\b\b\b\b\b\b\b\b\b\b\b\b\b\b\b\b\b\b\b\b\b\b\b\b\b\b\b\b\b\b\b\b\b\b\b\b\b\b\b\b\b\b\b\b\b\b\b\b\b\b\b\b\b\b\b\b\b\b\b\b\b\b\b\b\b\b\b\b\b\b\b\b\b\b\b\b\b\b\b\b\b\b\b\b\b\b\b\b\b\b\b\b\b\b\b\b\b\b\b\b\b\b\b\b\b\b\b\b\b\b\b\b\b\b\b\b\b\b\b\b\b\b\b\b\b\b\b\b\b\b\b\b\b\b\b\b\b\b\b\b\b\b\b\b\b\b\b\b\b\b\b\b\b\b\b\b\b\b\b\b\b\b\b\b\b\b\b\b\b\b\b\b\b\b\b\b\b\b\b\b\b\b\b\b\b\b\b\b\b\b\b\b\b\b\b\b\b\b\b\b\b\b\b\b\b\b\b\b\b\b\b\b\b\b\b\b\b\b\b\b\b\b\b\b\b\b\b\b\b\b\b\b\b\b\b\b\b\b\b\b\b\b\b\b\b\b\b\b\b\b\b\b\b\b\b\b\b\b\b\b\b\b\b\b\b\b\b\b\b\b\b\b\b\b\b\b\b\b\b\b\b\b\b\b\b\b\b\b\b\b\b\b\b\b\b\b\b\b\b\b\b\b\b\b\b\b\b\b\b\b\b\b\b\b\b\b\b\b\b\b\b\b\b\b\b\b\b\b\b\b\b\b\b\b\b\b\b\b\b\b\b\b\b\b\b\b\b\b\b\b\b\b\b\b\b\b\b\b\b\b\b\b\b\b\b\b\b\b\b\b\b\b\b\b\b\b\b\b\b\b\b\b\b\b\b\b\b\b\b\b\b\b\b\b\b\b\b\b\b\b\b\b\b\b\b\b\b\b\b\b\b\b\b\b\b\b\b\b\b\b\b\b\b\b\b\b\b\b\b\b\b\b\b\b\b\b\b\b\b\b\b\b\b\b\b\b\b\b\b\b\b\b\b\b\b\b\b\b\b\b\b\b\b\b\b\b\b\b\b\b\b\b\b\b\b\b\b\b\b\b\b\b\b\b\b\b\b\b\b\b\b\b\b\b\b\b\b\b\b\b\b\b\b\b\b\b\b\b\b\b\b\b\b\b\b\b\b\b\b\b\b\b\b\b\b\b\b\b\b\b\b\b\b\b\b\b\b\b\b\b\b\b\b\b\b\b\b\b\b\b\b\b\b\b\b\b\b\b\b\b\b\b\b\b\b\b\b\b\b\b\b\b\b\b\b\b\b\b\b\b\b\b\b\b\b\b\b\b\b\b\b\b\b\b\b\b\b\b\b\b\b\b\b\b\b\b\b\b\b\b\b\b\b\b\b\b\b\b\b\b\b\b\b\b\b\b\b\b\b\b\b\b\b\b\b\b\b\b\b\b\b\b\b\b\b\b\b\b\b\b\b\b\b\b\b\b\b\b\b\b\b\b\b\b\b\b\b\b\b\b\b\b\b\b\b\b\b\b\b\b\b\b\b\b\b\b\b\b\b\b\b\b\b\b\b\b\b\b\b\b\b\b\b\b\b\b\b\b\b\b\b\b\b\b\b\b\b\b\b\b\b\b\b\b\b\b\b\b\b\b\b\b\b\b\b\b\b\b\b\b\b\b\b\b\b\b\b\b\b\b\b\b\b\b\b\b\b\b\b\b\b\b\b\b\b\b\b\b\b\b\b\b\b\b\b\b\b\b\b\b\b\b\b\b\b\b\b\b\b\b\b\b\b\b\b\b\b\b\b\b\b\b\b\b\b\b\b\b\b\b\b\b\b\b\b\b\b\b\b\b\b\b\b\b\b\b\b\b\b\b\b\b\b\b\b\b\b\b\b\b\b\b\b\b\b\b\b\b\b\b\b\b\b\b\b\b\b\b\b\b\b\b\b\b\b\b\b\b\b\b\b\b\b\b\b\b\b\b\b\b\b\b\b\b\b\b\b\b\b\b\b\b\b\b\b\b\b\b\b\b\b\b\b\b\b\b\b\b\b\b\b\b\b\b\b\b\b\b\b\b\b\b\b\b\b\b\b\b\b\b\b\b\b\b\b\b\b\b\b\b\b\b\b\b\b\b\b\b\b\b\b\b\b\b\b\b\b\b\b\b\b\b\b\b\b\b\b\b\b\b\b\b\b\b\b\b\b\b\b\b\b\b\b\b\b\b\b\b\b\b\b\b\b\b\b\b\b\b\b\b\b\b\b\b\b\b\b\b\b\b\b\b\b\b\b\b\b\b\b\b\b\b\b\b\b\b\b\b\b\b\b\b\b\b\b\b\b\b\b\b\b\b\b\b\b\b\b\b\b\b\b\b\b\b\b\b\b\b\b\b\b\b\b\b\b\b\b\b\b\b\b\b\b\b\b\b\b\b\b\b\b\b\b\b\b\b\b\b\b\b\b\b\b\b\b\b\b\b\b\b\b\b\b\b\b\b\b\b\b\b\b\b\b\b\b\b\b\b\b\b\b\b\b\b\b\b\b\b\b\b\b\b\b\b\b\b\b\b\b\b\b\b\b\b\b\b\b\b\b\b\b\b\b\b\b\b\b\b\b\b\b\b\b\b\b\b\b\b\b\b\b\b\b\b\b\b\b\b\b\b\b\b\b\b\b\b\b\b\b\b\b\b\b\b\b\b\b\b\b\b\b\b\b\b\b\b\b\b\b\b\b\b\b\b\b\b\b\b\b\b\b\b\b\b\b\b\b\b\b\b\b\b\b\b\b\b\b\b\b\b\b\b\b\b\b\b\b\b\b\b\b\b\b\b\b\b\b\b\b\b\b\b\b\b\b\b\b\b\b\b\b\b\b\b\b\b\b\b\b\b\b\b\b\b\b\b\b\b\b\b\b\b\b\b\b\b\b\b\b\b\b\b\b\b\b\b\b\b\b\b\b\b\b\b\b\b\b\b\b\b\b\b\b\b\b\b\b\b\b\b\b\b\b\b\b\b\b\b\b\b\b\b\b\b\b\b\b\b\b\b\b\b\b\b\b\b\b\b\b\b\b\b\b\b\b\b\b\b\b\b\b\b\b\b\b\b\b\b\b\b\b\b\b\b\b\b\b\b\b\b\b\b\b\b\b\b\b\b\b\b\b\b\b\b\b\b\b\b\b\b\b\b\b\b\b\b\b\b\b\b\b\b\b\b\b\b\b\b\b\b\b\b\b\b\b\b\b\b\b\b\b\b\b\b\b\b\b\b\b\b\b\b\b\b\b\b\b\b\b\b\b\b\b\b\b\b\b\b\b\b\b\b\b\b\b\b\b\b\b\b\b\b\b\b\b\b\b\b\b\b\b\b\b\b\b\b\b\b\b\b\b\b\b\b\b\b\b\b\b\b\b\b\b\b\b\b\b\b\b\b\b\b\b\b\b\b\b\b\b\b\b\b\b\b\b\b\b\b\b\b\b\b\b\b\b\b\b\b\b\b\b\b\b\b\b\b\b\b\b\b\b\b\b\b\b\b\b\b\b\b\b\b\b\b\b\b\b\b\b\b\b\b\b\b\b\b\b\b\b\b\b\b\b\b\b\b\b\b\b\b\b\b\b\b\b\b\b\b\b\b\b\b\b\b\b\b\b\b\b\b\b\b\b\b\b\b\b\b\b\b\b\b\b\b\b\b\b\b\b\b\b\b\b\b\b\b\b\b\b\b\b\b\b\b\b\b\b\b\b\b\b\b\b\b\b\b\b\b\b\b\b\b\b\b\b\b\b\b\b\b\b\b\b\b\b\b\b\b\b\b\b\b\b\b\b\b\b\b\b\b\b\b\b\b\b\b\b\b\b\b\b\b\b\b\b\b\b\b\b\b\b\b\b\b\b\b\b\b\b\b\b\b\b\b\b\b\b\b\b\b\b\b\b\b\b\b\b\b\b\b\b\b\b\b\b\b\b\b\b\b\b\b\b\b\b\b\b\b\b\b\b\b\b\b\b\b\b\b\b\b\b\b\b\b\b\b\b\b\b\b\b\b\b\b\b\b\b\b\b\b\b\b\b\b\b\b\b\b\b\b\b\b\b\b\b\b\b\b\b\b\b\b\b\b\b\b\b\b\b\b\b\b\b\b\b\b\b\b\b\b\b\b\b\b\b\b\b\b\b\b\b\b\b\b\b\b\b\b\b\b\b\b\b\b\b\b\b\b\b\b\b\b\b\b\b\b\b\b\b\b\b\b\b\b\b\b\b\b\b\b\b\b\b\b\b\b\b\b\b\b\b\b\b\b\b\b\b\b\b\b\b\b\b\b\b\b\b\b\b\b\b\b\b\b\b\b\b\b\b\b\b\b\b\b\b\b\b\b\b\b\b\b\b\b\b\b\b\b\b\b\b\b\b\b\b\b\b\b\b\b\b\b\b\b\b\b\b\b\b\b\b\b\b\b\b\b\b\b\b\b\b\b\b\b\b\b\b\b\b\b\b\b\b\b\b\b\b\b\b\b\b\b\b\b\b\b\b\b\b\b\b\b\b\b\b\b\b\b\b\b\b\b\b\b\b\b\b\b\b\b\b\b\b\b\b\b\b\b\b\b\b\b\b\b\b\b\b\b\b\b\b\b\b\b\b\b\b\b\b\b\b\b\b\b\b\b\b\b\b\b\b\b\b\b\b\b\b\b\b\b\b\b\b\b\b\b\b\b\b\b\b\b\b\b\b\b\b\b\b\b\b\b\b\b\b\b\b\b\b\b\b\b\b\b\b\b\b\b\b\b\b\b\b\b\b\b\b\b\b\b\b\b\b\b\b\b\b\b\b\b\b\b\b\b\b\b\b\b\b\b\b\b\b\b\b\b\b\b\b\b\b\b\b\b\b\b\b\b\b\b\b\b\b\b\b\b\b\b\b\b\b\b\b\b\b\b\b\b\b\b\b\b\b\b\b\b\b\b\b\b\b\b\b\b\b\b\b\b\b\b\b\b\b\b\b\b\b\b\b\b\b\b\b\b\b\b\b\b\b\b\b\b\b\b\b\b\b\b\b\b\b\b\b\b\b\b\b\b\b\b\b\b\b\b\b\b\b\b\b\b\b\b\b\b\b\b\b\b\b\b\b\b\b\b\b\b\b\b\b\b\b\b\b\b\b\b\b\b\b\b\b\b\b\b\b\b\b\b\b\b\b\b\b\b\b\b\b\b\b\b\b\b\b\b\b\b\b\b\b\b\b\b\b\b\b\b\b\b\b\b\b\b\b\b\b\b\b\b\b\b\b\b\b\b\b\b\b\b\b\b\b\b\b\b\b\b\b\b\b\b\b\b\b\b\b\b\b\b\b\b\b\b\b\b\b\b\b\b\b\b\b\b\b\b\b\b\b\b\b\b\b\b\b\b\b\b\b\b\b\b\b\b\b\b\b\b\b\b\b\b\b\b\b\b\b\b\b\b\b\b\b\b\b\b\b\b\b\b\b\b\b\b\b\b\b\b\b\b\b\b\b\b\b\b\b\b\b\b\b\b\b\b\b\b\b\b\b\b\b\b\b\b\b\b\b\b\b\b\b\b\b\b\b\b\b\b\b\b\b\b\b\b\b\b\b\b\b\b\b\b\b\b\b\b\b\b\b\b\b\b\b\b\b\b\b\b\b\b\b\b\b\b\b\b\b\b\b\b\b\b\b\b\b\b\b\b\b\b\b\b\b\b\b\b\b\b\b\b\b\b\b\b\b\b\b\b\b\b\b\b\b\b\b\b\b\b\b\b\b\b\b\b\b\b\b\b\b\b\b\b\b\b\b\b\b\b\b\b\b\b\b\b\b\b\b\b\b\b\b\b\b\b\b\b\b\b\b\b\b\b\b\b\b\b\b\b\b\b\b\b\b\b\b\b\b\b\b\b\b\b\b\b\b\b\b\b\b\b\b\b\b\b\b\b\b\b\b\b\b\b\b\b\b\b\b\b\b\b\b\b\b\b\b\b\b\b\b\b\b\b\b\b\b\b\b\b\b\b\b\b\b\b\b\b\b\b\b\b\b\b\b\b\b\b\b\b\b\b\b\b\b\b\b\b\b\b\b\b\b\b\b\b\b\b\b\b\b\b\b\b\b\b\b\b\b\b\b\b\b\b\b\b\b\b\b\b\b\b\b\b\b\b\b\b\b\b\b\b\b\b\b\b\b\b\b\b\b\b\b\b\b\b\b\b\b\b\b\b\b\b\b\b\b\b\b\b\b\b\b\b\b\b\b\b\b\b\b\b\b\b\b\b\b\b\b\b\b\b\b\b\b\b\b\b\b\b\b\b\b\b\b\b\b\b\b\b\b\b\b\b\b\b\b\b\b\b\b\b\b\b\b\b\b\b\b\b\b\b\b\b\b\b\b\b\b\b\b\b\b\b\b\b\b\b\b\b\b\b\b\b\b\b\b\b\b\b\b\b\b\b\b\b\b\b\b\b\b\b\b\b\b\b\b\b\b\b\b\b\b\b\b\b\b\b\b\b\b\b\b\b\b\b\b\b\b\b\b\b\b\b\b\b\b\b\b\b\b\b\b\b\b\b\b\b\b\b\b\b\b\b\b\b\b\b\b\b\b\b\b\b\b\b\b\b\b\b\b\b\b\b\b\b\b\b\b\b\b\b\b\b\b\b\b\b\b\b\b\b\b\b\b\b\b\b\b\b\b\b\b\b\b\b\b\b\b\b\b\b\b\b\b\b\b\b\b\b\b\b\b\b\b\b\b\b\b\b\b\b\b\b\b\b\b\b\b\b\b\b\b\b\b\b\b\b\b\b\b\b\b\b\b\b\b\b\b\b\b\b\b\b\b\b\b\b\b\b\b\b\b\b\b\b\b\b\b\b\b\b\b\b\b\b\b\b\b\b\b\b\b\b\b\b\b\b\b\b\b\b\b\b\b\b\b\b\b\b\b\b\b\b\b\b\b\b\b\b\b\b\b\b\b\b\b\b\b\b\b\b\b\b\b\b\b\b\b\b\b\b\b\b\b\b\b\b\b\b\b\b\b\b\b\b\b\b\b\b\b\b\b\b\b\b\b\b\b\b\b\b\b\b\b\b\b\b\b\b\b\b\b\b\b\b\b\b\b\b\b\b\b\b\b\b\b\b\b\b\b\b\b\b\b\b\b\b\b\b\b\b\b\b\b\b\b\b\b\b\b\b\b\b\b\b\b\b\b\b\b\b\b\b\b\b\b\b\b\b\b\b\b\b\b\b\b\b\b\b\b\b\b\b\b\b\b\b\b\b\b\b\b\b\b\b\b\b\b\b\b\b\b\b\b\b\b\b\b\b\b\b\b\b\b\b\b\b\b\b\b\b\b\b\b\b\b\b\b\b\b\b\b\b\b\b\b\b\b\b\b\b\b\b\b\b\b\b\b\b\b\b\b\b\b\b\b\b\b\b\b\b\b\b\b\b\b\b\b\b\b\b\b\b\b\b\b\b\b\b\b\b\b\b\b\b\b\b\b\b\b\b\b\b\b\b\b\b\b\b\b\b\b\b\b\b\b\b\b\b\b\b\b\b\b\b\b\b\b\b\b\b\b\b\b\b\b\b\b\b\b\b\b\b\b\b\b\b\b\b\b\b\b\b\b\b\b\b\b\b\b\b\b\b\b\b\b\b\b\b\b\b\b\b\b\b\b\b\b\b\b\b\b\b\b\b\b\b\b\b\b\b\b\b\b\b\b\b\b\b\b\b\b\b\b\b\b\b\b\b\b\b\b\b\b\b\b\b\b\b\b\b\b\b\b\b\b\b\b\b\b\b\b\b\b\b\b\b\b\b\b\b\b\b\b\b\b\b\b\b\b\b\b\b\b\b\b\b\b\b\b\b\b\b\b\b\b\b\b\b\b\b\b\b\b\b\b\b\b\b\b\b\b\b\b\b\b\b\b\b\b\b\b\b\b\b\b\b\b\b\b\b\b\b\b\b\b\b\b\b\b\b\b\b\b\b\b\b\b\b\b\b\b\b\b\b\b\b\b\b\b\b\b\b\b\b\b\b\b\b\b\b\b\b\b\b\b\b\b\b\b\b\b\b\b\b\b\b\b\b\b\b\b\b\b\b\b\b\b\b\b\b\b\b\b\b\b\b\b\b\b\b\b\b\b\b\b\b\b\b\b\b\b\b\b\b\b\b\b\b\b\b\b\b\b\b\b\b\b\b\b\b\b\b\b\b\b\b\b\b\b\b\b\b\b\b\b\b\b\b\b\b\b\b\b\b\b\b\b\b\b\b\b\b\b\b\b\b\b\b\b\b\b\b\b\b\b\b\b\b\b\b\b\b\b\b\b\b\b\b\b\b\b\b\b\b\b\b\b\b\b\b\b\b\b\b\b\b\b\b\b\b\b\b\b\b\b\b\b\b\b\b\b\b\b\b\b\b\b\b\b\b\b\b\b\b\b\b\b\b\b\b\b\b\b\b\b\b\b\b\b\b\b\b\b\b\b\b\b\b\b\b\b\b\b\b\b\b\b\b\b\b\b\b\b\b\b\b\b\b\b\b\b\b\b\b\b\b\b\b\b\b\b\b\b\b\b\b\b\b\b\b\b\b\b\b\b\b\b\b\b\b\b\b\b\b\b\b\b\b\b\b\b\b\b\b\b\b\b\b\b\b\b\b\b\b\b\b\b\b\b\b\b\b\b\b\b\b\b\b\b\b\b\b\b\b\b\b\b\b\b\b\b\b\b\b\b\b\b\b\b\b\b\b\b\b\b\b\b\b\b\b\b\b\b\b\b\b\b\b\b\b\b\b\b\b\b\b\b\b\b\b\b\b\b\b\b\b\b\b\b\b\b\b\b\b\b\b\b\b\b\b\b\b\b\b\b\b\b\b\b\b\b\b\b\b\b\b\b\b\b\b\b\b\b\b\b\b\b\b\b\b\b\b\b\b\b\b\b\b\b\b\b\b\b\b\b\b\b\b\b\b\b\b\b\b\b\b\b\b\b\b\b\b\b\b\b\b\b\b\b\b\b\b\b\b\b\b\b\b\b\b\b\b\b\b\b\b\b\b\b\b\b\b\b\b\b\b\b\b\b\b\b\b\b\b\b\b\b\b\b\b\b\b\b\b\b\b\b\b\b\b\b\b\b\b\b\b\b\b\b\b\b\b\b\b\b\b\b\b\b\b\b\b\b\b\b\b\b\b\b\b\b\b\b\b\b\b\b\b\b\b\b\b\b\b\b\b\b\b\b\b\b\b\b\b\b\b\b\b\b\b\b\b\b\b\b\b\b\b\b\b\b\b\b\b\b\b\b\b\b\b\b\b\b\b\b\b\b\b\b\b\b\b\b\b\b\b\b\b\b\b\b\b\b\b\b\b\b\b\b\b\b\b\b\b\b\b\b\b\b\b\b\b\b\b\b\b\b\b\b\b\b\b\b\b\b\b\b\b\b\b\b\b\b\b\b\b\b\b\b\b\b\b\b\b\b\b\b\b\b\b\b\b\b\b\b\b\b\b\b\b\b\b\b\b\b\b\b\b\b\b\b\b\b\b\b\b\b\b\b\b\b\b\b\b\b\b\b\b\b\b\b\b\b\b\b\b\b\b\b\b\b\b\b\b\b\b\b\b\b\b\b\b\b\b\b\b\b\b\b\b\b\b\b\b\b\b\b\b\b\b\b\b\b\b\b\b\b\b\b\b\b\b\b\b\b\b\b\b\b\b\b\b\b\b\b\b\b\b\b\b\b\b\b\b\b\b\b\b\b\b\b\b\b\b\b\b\b\b\b\b\b\b\b\b\b\b\b\b\b\b\b\b\b\b\b\b\b\b\b\b\b\b\b\b\b\b\b\b\b\b\b\b\b\b\b\b\b\b\b\b\b\b\b\b\b\b\b\b\b\b\b\b\b\b\b\b\b\b\b\b\b\b\b\b\b\b\b\b\b\b\b\b\b\b\b\b\b\b\b\b\b\b\b\b\b\b\b\b\b\b\b\b\b\b\b\b\b\b\b\b\b\b\b\b\b\b\b\b\b\b\b\b\b\b\b\b\b\b\b\b\b\b\b\b\b\b\b\b\b\b\b\b\b\b\b\b\b\b\b\b\b\b\b\b\b\b\b\b\b\b\b\b\b\b\b\b\b\b\b\b\b\b\b\b\b\b\b\b\b\b\b\b\b\b\b\b\b\b\b\b\b\b\b\b\b\b\b\b\b\b\b\b\b\b\b\b\b\b\b\b\b\b\b\b\b\b\b\b\b\b\b\b\b\b\b\b\b\b\b\b\b\b\b\b\b\b\b\b\b\b\b\b\b\b\b\b\b\b\b\b\b\b\b\b\b\b\b\b\b\b\b\b\b\b\b\b\b\b\b\b\b\b\b\b\b\b\b\b\b\b\b\b\b\b\b\b\b\b\b\b\b\b\b\b\b\b\b\b\b\b\b\b\b\b\b\b\b\b\b\b\b\b\b\b\b\b\b\b\b\b\b\b\b\b\b\b\b\b\b\b\b\b\b\b\b\b\b\b\b\b\b\b\b\b\b\b\b\b\b\b\b\b\b\b\b\b\b\b\b\b\b\b\b\b\b\b\b\b\b\b\b\b\b\b\b\b\b\b\b\b\b\b\b\b\b\b\b\b\b\b\b\b\b\b\b\b\b\b\b\b\b\b\b\b\b\b\b\b\b\b\b\b\b\b\b\b\b\b\b\b\b\b\b\b\b\b\b\b\b\b\b\b\b\b\b\b\b\b\b\b\b\b\b\b\b\b\b\b\b\b\b\b\b\b\b\b\b\b\b\b\b\b\b\b\b\b\b\b\b\b\b\b\b\b\b\b\b\b\b\b\b\b\b\b\b\b\b\b\b\b\b\b\b\b\b\b\b\b\b\b\b\b\b\b\b\b\b\b\b\b\b\b\b\b\b\b\b\b\b\b\b\b\b\b\b\b\b\b\b\b\b\b\b\b\b\b\b\b\b\b\b\b\b\b\b\b\b\b\b\b\b\b\b\b\b\b\b\b\b\b\b\b\b\b\b\b\b\b\b\b\b\b\b\b\b\b\b\b\b\b\b\b\b\b\b\b\b\b\b\b\b\b\b\b\b\b\b\b\b\b\b\b\b\b\b\b\b\b\b\b\b\b\b\b\b\b\b\b\b\b\b\b\b\b\b\b\b\b\b\b\b\b\b\b\b\b\b\b\b\b\b\b\b\b\b\b\b\b\b\b\b\b\b\b\b\b\b\b\b\b\b\b\b\b\b\b\b\b\b\b\b\b\b\b\b\b\b\b\b\b\b\b\b\b\b\b\b\b\b\b\b\b\b\b\b\b\b\b\b\b\b\b\b\b\b\b\b\b\b\b\b\b\b\b\b\b\b\b\b\b\b\b\b\b\b\b\b\b\b\b\b\b\b\b\b\b\b\b\b\b\b\b\b\b\b\b\b\b\b\b\b\b\b\b\b\b\b\b\b\b\b\b\b\b\b\b\b\b\b\b\b\b\b\b\b\b\b\b\b\b\b\b\b\b\b\b\b\b\b\b\b\b\b\b\b\b\b\b\b\b\b\b\b\b\b\b\b\b\b\b\b\b\b\b\b\b\b\b\b\b\b\b\b\b\b\b\b\b\b\b\b\b\b\b\b\b\b\b\b\b\b\b\b\b\b\b\b\b\b\b\b\b\b\b\b\b\b\b\b\b\b\b\b\b\b\b\b\b\b\b\b\b\b\b\b\b\b\b\b\b\b\b\b\b\b\b\b\b\b\b\b\b\b\b\b\b\b\b\b\b\b\b\b\b\b\b\b\b\b\b\b\b\b\b\b\b\b\b\b\b\b\b\b\b\b\b\b\b\b\b\b\b\b\b\b\b\b\b\b\b\b\b\b\b\b\b\b\b\b\b\b\b\b\b\b\b\b\b\b\b\b\b\b\b\b\b\b\b\b\b\b\b\b\b\b\b\b\b\b\b\b\b\b\b\b\b\b\b\b\b\b\b\b\b\b\b\b\b\b\b\b\b\b\b\b\b\b\bEpoch 00000: val_loss improved from -inf to 0.01621, saving model to model_nvidia_cnn_model2017-05-07T14:11:17.119973-00-0.12.h5\n",
      "6075/6075 [==============================] - 274s - loss: 0.0174 - acc: 0.1205 - precision: 0.0000e+00 - recall: 0.0000e+00 - val_loss: 0.0162 - val_acc: 0.1162 - val_precision: 0.0000e+00 - val_recall: 0.0000e+00\n",
      "\n",
      "dict_keys(['recall', 'loss', 'val_precision', 'val_acc', 'acc', 'val_recall', 'val_loss', 'precision'])\n",
      "\n",
      "2017-05-07T14:15:51.198047\n",
      "\n",
      "Execution time for Training nvidia_cnn_model for 1 epochs : 274.0780062675476 seconds\n"
     ]
    },
    {
     "data": {
      "image/png": "[encoded data removed]",
      "text/plain": [
       "<matplotlib.figure.Figure at 0x7f7247800ef0>"
      ]
     },
     "metadata": {},
     "output_type": "display_data"
    },
    {
     "name": "stdout",
     "output_type": "stream",
     "text": [
      "\n",
      "Saved model with name : model_nvidia_cnn_model2017-05-07T14:15:51.409059val_loss_[0.01621478101154291].h5\n"
     ]
    }
   ],
   "source": [
    "# Train the 'Nvidia Model'\n",
    "\n",
    "# Create a new model from scratch\n",
    "# nvidia_model, model_desc_name = get_nvidia_model()\n",
    "\n",
    "# or, Restore one from Disk\n",
    "model_path = 'model_nvidia_cnn_model2017-05-07T14:11:17.119973-00-0.12_success_refinement_pending.h5'\n",
    "model_desc_name = 'nvidia_cnn_model'\n",
    "nvidia_model = load_model(model_path)\n",
    "\n",
    "# Print out the architecture\n",
    "debugLog(model_path)\n",
    "print_model_architecture(nvidia_model, model_desc_name)\n",
    "\n",
    "# Train Repeatedly for different data sets\n",
    "\n",
    "nvidia_model = train_model_for_csv_file_alldata(nvidia_model, model_desc_name, const_udacity_data_csv_path, 1 , 0.2, 100)\n",
    "# nvidia_model = train_model_for_csv_file_alldata(nvidia_model, model_desc_name, const_my_data_fast_track1_clockwise_csv_path, 1 , 0.08, 100)\n",
    "# nvidia_model = train_model_for_csv_file_alldata(nvidia_model, model_desc_name, const_my_data_fast_track1_counter_clockwise_csv_path, 1 , 0.08, 100)\n",
    "# nvidia_model = train_model_for_csv_file_alldata(nvidia_model, model_desc_name, const_my_data_track1_curves_cw_csv_path, 1 , 0.08, 100)\n",
    "# nvidia_model = train_model_for_csv_file_alldata(nvidia_model, model_desc_name, const_my_data_track1_curves_ccw_csv_path, 1 , 0.08, 100)\n"
   ]
  },
  {
   "cell_type": "code",
   "execution_count": null,
   "metadata": {
    "collapsed": false,
    "deletable": true,
    "editable": true
   },
   "outputs": [],
   "source": [
    "# Train the 'CommaAI Model'\n",
    "\n",
    "# Define the model\n",
    "commaai_model, model_desc_name = get_commaai_model()\n",
    "\n",
    "train_model_for_csv_file(commaai_model, model_desc_name, const_udacity_data_csv_path)\n"
   ]
  },
  {
   "cell_type": "markdown",
   "metadata": {
    "deletable": true,
    "editable": true
   },
   "source": [
    "## ( Success ) -  Experiment 3: Using Transfer Learning ( Inception V3 ) with Keras\n",
    "\n",
    "Initial Failure = ValueError: Error when checking model target: expected dense_2 to have 4 dimensions, but got array with shape (32, 1)\n",
    "\n",
    "Success in at least get the model running, and compiling was achieved by adding a Flattening layer to the end of the convolutional layers as obtained from Inception V3\n",
    "\n",
    "Pending = Explore how to add preprocessing lambda layers to the Inception V3 model\n"
   ]
  },
  {
   "cell_type": "code",
   "execution_count": null,
   "metadata": {
    "collapsed": false,
    "deletable": true,
    "editable": true
   },
   "outputs": [],
   "source": [
    "\n",
    "inception_model, model_desc_name = get_inception_model()\n",
    "\n",
    "train_model_for_csv_file(inception_model, model_desc_name, const_udacity_data_csv_path)\n"
   ]
  },
  {
   "cell_type": "markdown",
   "metadata": {
    "deletable": true,
    "editable": true
   },
   "source": [
    "## Experiment 4: Compare the above models\n"
   ]
  },
  {
   "cell_type": "markdown",
   "metadata": {
    "deletable": true,
    "editable": true
   },
   "source": [
    "* Models to compare :\n",
    "\n",
    "\n",
    "    + Nvidia pipeline.\n",
    "    + CommaAI pipeline.\n",
    "    + My Project 2 pipeline.\n",
    "    + Simple pipeline.\n"
   ]
  },
  {
   "cell_type": "markdown",
   "metadata": {
    "deletable": true,
    "editable": true
   },
   "source": [
    "* Comparison criteria :\n",
    "\n",
    "\n",
    "    + Training accuracy.\n",
    "    + Validation accuracy.\n",
    "    + Training loss.\n",
    "    + Validation loss.\n",
    "    + Training time.\n",
    "    + Any other parameters"
   ]
  },
  {
   "cell_type": "markdown",
   "metadata": {
    "deletable": true,
    "editable": true
   },
   "source": [
    "## Experiment #: Review classes with worst performance, and best performance\n"
   ]
  },
  {
   "cell_type": "markdown",
   "metadata": {
    "collapsed": true,
    "deletable": true,
    "editable": true
   },
   "source": [
    "## Experiment #: Analysis of Data Distribution\n"
   ]
  },
  {
   "cell_type": "markdown",
   "metadata": {
    "deletable": true,
    "editable": true
   },
   "source": [
    "* The results of the analysis / distribution below, show that ( as expected ), we have a lot of training data for the 'center' case(s) but very less data particularly for two scenarios :\n",
    "* 1. When steering angle value is negative.\n",
    "* 2. When steering angle value is at the nagative or positive extremities.\n",
    "* One way to improve performance, would be to take the already trained model ( 54% accuracy ), and then re-train it on the same data set, except that this time, we reject the over represented class(es), boost the underrepresented class(es) \n"
   ]
  },
  {
   "cell_type": "markdown",
   "metadata": {
    "deletable": true,
    "editable": true
   },
   "source": [
    "## Experiment #: Separate Data into under represented and over represented classes\n"
   ]
  },
  {
   "cell_type": "markdown",
   "metadata": {
    "deletable": true,
    "editable": true
   },
   "source": [
    "\n",
    "## Experiment #: Restore existing model(s), and train it exclusively on under represented classes, and reject over represented classes during this re-training process. || Then evaluate performance for the complete data set again, and also for a smaller validation data set || Also, check by driving || \n"
   ]
  },
  {
   "cell_type": "markdown",
   "metadata": {
    "deletable": true,
    "editable": true
   },
   "source": [
    "## Experiment #: Train against left, right images"
   ]
  },
  {
   "cell_type": "markdown",
   "metadata": {
    "deletable": true,
    "editable": true
   },
   "source": [
    "## Experiment #: Generate Data for under represented classes ( greyscaling, flip, translate or otherwise )\n"
   ]
  },
  {
   "cell_type": "markdown",
   "metadata": {
    "deletable": true,
    "editable": true
   },
   "source": [
    "## Experiment #: Restore existing models and continue training on under represented classes and compare performance statistically and by driving\n"
   ]
  },
  {
   "cell_type": "markdown",
   "metadata": {
    "deletable": true,
    "editable": true
   },
   "source": [
    "## Experiment #: Generate descriptive statistics and visualizations with Pandas"
   ]
  },
  {
   "cell_type": "markdown",
   "metadata": {
    "deletable": true,
    "editable": true
   },
   "source": [
    "* From the above distribution, we can see that the max number of steering classes exist for steering angle between 0 and -0.1, and that this data is over represented. \n",
    "* This means that we can re-train the data for all cases, except when steering angle is over represented"
   ]
  },
  {
   "cell_type": "code",
   "execution_count": null,
   "metadata": {
    "collapsed": false,
    "deletable": true,
    "editable": true
   },
   "outputs": [],
   "source": [
    "X_train_new = list()\n",
    "y_train_new = list()\n",
    "\n",
    "for index, steering_angle in enumerate(y_train):\n",
    "    steering_angle = float(steering_angle)\n",
    "    if (steering_angle < -0.1 and steering_angle>-20) or (steering_angle > 0 and steering_angle < 20):\n",
    "        y_train_new.append(str(steering_angle)) # str needed because for the next step, pandas needs an iterable object\n",
    "        X_train_new.append(X_train[index])\n",
    "\n",
    "                \n",
    "debugLog(y_train_new)"
   ]
  },
  {
   "cell_type": "code",
   "execution_count": null,
   "metadata": {
    "collapsed": false,
    "deletable": true,
    "editable": true
   },
   "outputs": [],
   "source": [
    "new_dataset = pandas.DataFrame({'y_train_new': y_train_new})\n",
    "\n",
    "new_dataset['y_train_new'] = new_dataset['y_train_new'].astype('float64') \n",
    "\n",
    "debugLog(new_dataset.head(20))"
   ]
  },
  {
   "cell_type": "code",
   "execution_count": null,
   "metadata": {
    "collapsed": false,
    "deletable": true,
    "editable": true
   },
   "outputs": [],
   "source": [
    "# histograms\n",
    "\n",
    "new_dataset.hist()\n",
    "plt.show()"
   ]
  },
  {
   "cell_type": "code",
   "execution_count": null,
   "metadata": {
    "collapsed": false,
    "deletable": true,
    "editable": true
   },
   "outputs": [],
   "source": [
    "restored_simple_model = load_model('model_simple_model-00-0.54.h5')\n",
    "\n",
    "debugLog(restored_simple_model)\n",
    "debugLog(restored_simple_model.layers)"
   ]
  },
  {
   "cell_type": "markdown",
   "metadata": {
    "deletable": true,
    "editable": true
   },
   "source": [
    "## Experiment 1: Comparing Generator approach versus a non-Generator approach in Python"
   ]
  },
  {
   "cell_type": "code",
   "execution_count": null,
   "metadata": {
    "collapsed": true,
    "deletable": true,
    "editable": true
   },
   "outputs": [],
   "source": [
    "# Upper limit of number for this experiment\n",
    "\n",
    "const_upper_limit = 100"
   ]
  },
  {
   "cell_type": "code",
   "execution_count": null,
   "metadata": {
    "collapsed": false,
    "deletable": true,
    "editable": true
   },
   "outputs": [],
   "source": [
    "# Generator approach\n",
    "# This can be compared to a recursive approach\n",
    "# A generator that yields items instead of returning a list\n",
    "\n",
    "def firstn_generator(n):\n",
    "    num = 0\n",
    "    while num < n:\n",
    "        yield 2*num\n",
    "        num += 1\n",
    "\n",
    "before_memory = print_memory_usage()\n",
    "sum_of_first_n_generator = sum(firstn_generator(const_upper_limit))\n",
    "after_memory = print_memory_usage()\n",
    "\n",
    "print(\"Result ( Generator) : \" + str(sum_of_first_n_generator))\n",
    "print(\"Change in memory usage ( Kb ) : \" + str(after_memory-before_memory))"
   ]
  },
  {
   "cell_type": "code",
   "execution_count": null,
   "metadata": {
    "collapsed": false,
    "deletable": true,
    "editable": true
   },
   "outputs": [],
   "source": [
    "# Non-generator approach\n",
    "# A traditional / non-recursive approach\n",
    "# Build and return a complete list\n",
    "\n",
    "def firstn_nongenerator(n):\n",
    "        num, nums = 0, []\n",
    "        while num < n:\n",
    "            nums.append(num)\n",
    "            num += 1\n",
    "        return nums \n",
    "    \n",
    "before_memory = print_memory_usage()\n",
    "sum_of_first_n_nongenerator = sum(firstn_nongenerator(const_upper_limit))\n",
    "after_memory = print_memory_usage()\n",
    "\n",
    "print(\"Result ( Non Generator approach ) : \" + str(sum_of_first_n_nongenerator))\n",
    "print(\"Change in memory usage ( Kb ) : \" + str(after_memory-before_memory))"
   ]
  },
  {
   "cell_type": "code",
   "execution_count": null,
   "metadata": {
    "collapsed": false,
    "deletable": true,
    "editable": true,
    "scrolled": false
   },
   "outputs": [],
   "source": [
    "# Works but no longer in use, hence commented out\n",
    "# # Use the generator above, to return batches from the training data, and print the size of batch\n",
    "\n",
    "# debugLog(\"Started Loading images for generator validation.\")\n",
    "\n",
    "# before_memory = print_memory_usage()\n",
    "\n",
    "# for image_batch, labels_batch in load_images_generator(training_features_paths_center,training_labels_steering_angle,32):\n",
    "#     infoLog(\" Image Batch Size : \" + str(len(image_batch)) + \" Label Batch Size : \"  + str(len(labels_batch)))\n",
    "    \n",
    "# after_memory = print_memory_usage()\n",
    "\n",
    "# debugLog(\"Change in memory usage ( Kb ) : \" + str(after_memory-before_memory))\n",
    "# debugLog(\"Ended Loading images for generator validation.\")\n"
   ]
  },
  {
   "cell_type": "code",
   "execution_count": null,
   "metadata": {
    "collapsed": false,
    "deletable": true,
    "editable": true
   },
   "outputs": [],
   "source": [
    "# Quick experiment to check how to add a value to every element of a numpy array\n",
    "\n",
    "np_array = np.array([1, 2, 3])\n",
    "    \n",
    "debugLog(np_array)\n",
    "\n",
    "b_array = np_array + .2\n",
    "\n",
    "debugLog(b_array)"
   ]
  },
  {
   "cell_type": "code",
   "execution_count": null,
   "metadata": {
    "collapsed": true,
    "deletable": true,
    "editable": true
   },
   "outputs": [],
   "source": [
    "# Works but no longer in use, hence commented out\n",
    "# Convenience method to train a model\n",
    "\n",
    "# def train_model(param_model, param_model_desc_name, param_train_generator, param_validation_generator, param_samples_per_epoch, param_number_of_validation_samples):\n",
    "#     # Checkpoint\n",
    "#     model_filepath = const_model_filename_prefix + model_desc_name + str(get_current_human_readable_time()) + \"-{epoch:02d}-{val_acc:.2f}\" + const_model_filename_postfix\n",
    "#     model_checkpoint = ModelCheckpoint(model_filepath, monitor='val_acc', verbose=1, save_best_only=True, mode='max')\n",
    "#     model_callbacks_list = [model_checkpoint]\n",
    "\n",
    "#     start_time = get_current_time()\n",
    "#     debugLog(start_time)\n",
    "#     model_history = param_model.fit_generator(param_train_generator, samples_per_epoch=param_samples_per_epoch, validation_data=param_validation_generator, nb_val_samples=param_number_of_validation_samples, nb_epoch=const_num_epochs, callbacks=model_callbacks_list)\n",
    "#     debugLog(model_history.history.keys())\n",
    "#     end_time = get_current_time()\n",
    "#     debugLog(end_time)\n",
    "#     print_time_diff(start_time,end_time,\"Training \" + param_model_desc_name + \" for \" + str(const_num_epochs) + \" epochs\")\n",
    "\n",
    "#     plot_keras_history_object(model_history,param_model_desc_name)\n",
    "    "
   ]
  },
  {
   "cell_type": "code",
   "execution_count": null,
   "metadata": {
    "collapsed": false,
    "deletable": true,
    "editable": true
   },
   "outputs": [],
   "source": [
    "\n",
    "# Works but no longer in use, hence commented out\n",
    "# Convenience method to read a CSV file and return left, right, center image paths, and parameters like steering angle, throttle etc.\n",
    "\n",
    "# def load_csv_file(filename, param_offset = 0.0):\n",
    "\n",
    "#     debugLog(\"Started Data Reading :\" + filename)\n",
    "#     training_features_paths_left = list()\n",
    "#     training_features_paths_center = list()\n",
    "#     training_features_paths_right = list()\n",
    "#     training_labels = None\n",
    "#     training_labels_steering_angle = np.array([])\n",
    "#     with open(filename, 'r') as csvfile:\n",
    "#         has_header = csv.Sniffer().has_header(csvfile.read(1024))\n",
    "#         infoLog(\"Has Header is \" + str(has_header) + \" for :\" + filename)\n",
    "#         csvfile.seek(0)  # rewind\n",
    "#         header = csv.reader(csvfile)\n",
    "#         if has_header:\n",
    "#             next(header)  # skip header row\n",
    "#         reader = csv.reader(csvfile, delimiter=',', quotechar='|')\n",
    "#         for data_row in reader:\n",
    "#                 center = data_row[0].strip() # Stripping is important in case there are any unintended leading / trailing spaces in the data\n",
    "#                 left = data_row[1].strip()\n",
    "#                 right = data_row[2].strip()\n",
    "#                 steering = data_row[3]\n",
    "#                 throttle = data_row[4]\n",
    "#                 brake = data_row[5]\n",
    "#                 speed = data_row[6]\n",
    "                \n",
    "#                 steering_left = steering + param_offset\n",
    "#                 steering_right = steering - param_offset\n",
    "                \n",
    "#                 # Filtering Logic\n",
    "#                 steering_angle = float(steering)\n",
    "\n",
    "#                 # Include all images which are under represented\n",
    "#                 if (steering_angle < -0.1 and steering_angle > float('-inf') ) or (steering_angle > 0.1 and steering_angle < float('inf')):\n",
    "#                     training_features_paths_left.append(left)\n",
    "#                     training_features_paths_center.append(center)\n",
    "#                     training_features_paths_right.append(right)\n",
    "#                     training_labels_steering_angle = np.append(training_labels_steering_angle,steering)\n",
    "            \n",
    "#                     labels_array = np.array([steering, throttle, brake,speed])\n",
    "#                     if training_labels is not None:\n",
    "#                         training_labels = np.vstack((training_labels,labels_array))\n",
    "#                     else:\n",
    "#                         training_labels = labels_array\n",
    "                \n",
    "#                 # Include 5% of images which are under represented\n",
    "#                 else:\n",
    "#                     index = np.random.randint(0, 100)\n",
    "#                     if index >= 0 and index < 33:\n",
    "#                         training_features_paths_left.append(left)\n",
    "#                         training_features_paths_center.append(center)\n",
    "#                         training_features_paths_right.append(right)\n",
    "#                         training_labels_steering_angle = np.append(training_labels_steering_angle,steering)\n",
    "            \n",
    "#                         labels_array = np.array([steering, throttle, brake,speed])\n",
    "#                         if training_labels is not None:\n",
    "#                             training_labels = np.vstack((training_labels,labels_array))\n",
    "#                         else:\n",
    "#                             training_labels = labels_array\n",
    "                        \n",
    "#     debugLog(\"Ended Data Reading :\" + filename)\n",
    "#     return training_features_paths_left, training_features_paths_center, training_features_paths_right, training_labels, training_labels_steering_angle\n",
    "\n",
    "\n",
    "# print_memory_usage()\n",
    "# training_features_paths_left, training_features_paths_center, training_features_paths_right, training_labels, training_labels_steering_angle = load_csv_file('data/fromudacity/driving_log.csv')\n",
    "# print_memory_usage()\n",
    "\n",
    "# # Separate out data into training and validation\n",
    "# X_train, X_validation, y_train, y_validation = train_test_split(training_features_paths_center, training_labels_steering_angle, test_size=const_validation_data_ratio, random_state=5)\n",
    "\n",
    "# debugLog(\" # Training images : \" + str(len(X_train)))\n",
    "# debugLog(\" # Validation images : \" + str(len(X_validation)))\n",
    "# debugLog(\" # Training labels : \" + str(len(y_train)))\n",
    "# debugLog(\" # Validation labels : \" + str(len(y_validation)))"
   ]
  },
  {
   "cell_type": "code",
   "execution_count": null,
   "metadata": {
    "collapsed": false,
    "deletable": true,
    "editable": true
   },
   "outputs": [],
   "source": [
    "\n",
    "# Works but no longer in use, hence commented out\n",
    "# Convenience method to train a model given a specified CSV file path to the data set\n",
    "# The model can be a fresh ( randomly initialized ) model, or a model which has been saved and restored from the Disk\n",
    "# After the completion of training, the best model is saved to disk and also returned\n",
    "\n",
    "# def train_model_for_csv_file(param_model, param_model_desc_name, csv_file_path, param_epochs = 2, include_center= True, include_left=True, left_offset=0.0, include_right=True, right_offset=0.0 ):\n",
    "        \n",
    "#     debugLog(csv_file_path)\n",
    "    \n",
    "#     path_prefix = 'data/fromudacity/'\n",
    "#     # TODO: A bit awkward to separate Udacity Data From Data Generated by me, but works for now\n",
    "#     if csv_file_path != const_udacity_data_csv_path:\n",
    "#         path_prefix = None\n",
    "#         debugLog(\"path_prefix is None because this is a non-udacity data file.\")\n",
    "#     else:\n",
    "#         debugLog(\"path_prefix is : \" + csv_file_path)\n",
    "    \n",
    "#     # Load and Filter the Data - Only keep the Data we care about ( randomly drop oversampled data ) and return filtered arrays\n",
    "#     paths_left, paths_center, paths_right, labels_all, labels_steering_angle = load_csv_file(csv_file_path)    \n",
    "    \n",
    "#     # Start training process\n",
    "\n",
    "#     # Define Checkpoint and Early Stopping\n",
    "#     model_filepath = const_model_filename_prefix + model_desc_name + str(get_current_human_readable_time()) + \"-{epoch:02d}-{val_acc:.2f}\" + const_model_filename_postfix\n",
    "#     model_checkpoint = ModelCheckpoint(model_filepath, monitor='val_loss', verbose=1, save_best_only=True, mode='max')\n",
    "#     early_stopping = EarlyStopping(monitor='val_loss', patience=4, verbose=0)\n",
    "#     model_callbacks_list = [model_checkpoint, early_stopping]\n",
    "    \n",
    "#     # Training on Left Images\n",
    "#     if include_left == True:\n",
    "#         debugLog(\"Training and Validation on left images is enabled.\")\n",
    "#         # Separate out data into training and validation\n",
    "#         X_train_left, X_validation_left, y_train_left, y_validation_left = train_test_split(paths_left, labels_steering_angle, test_size=const_validation_data_ratio, random_state=5)\n",
    "#         infoLog(\" # Left Training images : \" + str(len(X_train_left)))\n",
    "#         infoLog(\" # Left Validation images : \" + str(len(X_validation_left)))\n",
    "#         infoLog(\" # Left Training labels : \" + str(len(y_train_left)))\n",
    "#         infoLog(\" # Left Validation labels : \" + str(len(y_validation_left)))\n",
    "#         train_generator_left = load_images_generator(X_train_left, y_train_left, 64, path_prefix)\n",
    "#         validation_generator_left = load_images_generator(X_validation_left, y_validation_left, 64, path_prefix)\n",
    "#         start_time = get_current_time()\n",
    "#         debugLog(get_current_human_readable_time())\n",
    "#         model_history = param_model.fit_generator(train_generator_left, samples_per_epoch = len(X_train_left), validation_data = validation_generator_left, nb_val_samples = len(X_validation_left), nb_epoch = param_epochs, callbacks = model_callbacks_list)\n",
    "#         debugLog(model_history.history.keys())\n",
    "#         end_time = get_current_time()\n",
    "#         debugLog(get_current_human_readable_time())\n",
    "#         print_time_diff(start_time,end_time,\"Training \" + param_model_desc_name + \" for \" + str(param_epochs) + \" epochs\")    \n",
    "#          # Generate plot of accuracy over epochs\n",
    "#         plot_keras_history_object(model_history,param_model_desc_name)\n",
    "#     else:\n",
    "#         debugLog(\"Training and Validation on left images is disabled.\")\n",
    "    \n",
    "#     # Training on Center Images\n",
    "#     if include_center == True:\n",
    "#         debugLog(\"Training and Validation on center images is enabled.\")\n",
    "#         # Separate out data into training and validation\n",
    "#         X_train_center, X_validation_center, y_train_center, y_validation_center = train_test_split(paths_center, labels_steering_angle, test_size=const_validation_data_ratio, random_state=5)\n",
    "#         infoLog(\" # Center Training images : \" + str(len(X_train_center)))\n",
    "#         infoLog(\" # Center Validation images : \" + str(len(X_validation_center)))\n",
    "#         infoLog(\" # Center Training labels : \" + str(len(y_train_center)))\n",
    "#         infoLog(\" # Center Validation labels : \" + str(len(y_validation_center)))\n",
    "#         train_generator_center = load_images_generator(X_train_center, y_train_center, 64, path_prefix)\n",
    "#         validation_generator_center = load_images_generator(X_validation_center, y_validation_center, 64, path_prefix)\n",
    "#         start_time = get_current_time()\n",
    "#         debugLog(get_current_human_readable_time())\n",
    "#         model_history = param_model.fit_generator(train_generator_center, samples_per_epoch = len(X_train_center), validation_data = validation_generator_center, nb_val_samples = len(X_validation_center), nb_epoch = param_epochs, callbacks = model_callbacks_list)\n",
    "#         debugLog(model_history.history.keys())\n",
    "#         end_time = get_current_time()\n",
    "#         debugLog(get_current_human_readable_time())\n",
    "#         print_time_diff(start_time,end_time,\"Training \" + param_model_desc_name + \" for \" + str(param_epochs) + \" epochs\")    \n",
    "#          # Generate plot of accuracy over epochs\n",
    "#         plot_keras_history_object(model_history,param_model_desc_name)\n",
    "#     else:\n",
    "#         debugLog(\"Training and Validation on center images is disabled.\")\n",
    "       \n",
    "#     # Training on Right Images\n",
    "#     if include_right == True:\n",
    "#         debugLog(\"Training and Validation on right images is enabled.\")\n",
    "#         # Separate out data into training and validation\n",
    "#         X_train_right, X_validation_right, y_train_right, y_validation_right = train_test_split(paths_right, labels_steering_angle, test_size=const_validation_data_ratio, random_state=5)\n",
    "#         infoLog(\" # Right Training images : \" + str(len(X_train_right)))\n",
    "#         infoLog(\" # Right Validation images : \" + str(len(X_validation_right)))\n",
    "#         infoLog(\" # Right Training labels : \" + str(len(y_train_right)))\n",
    "#         infoLog(\" # Right Validation labels : \" + str(len(y_validation_right)))\n",
    "#         train_generator_right = load_images_generator(X_train_right, y_train_right, 64, path_prefix)\n",
    "#         validation_generator_right = load_images_generator(X_validation_right, y_validation_right, 64, path_prefix)\n",
    "#         start_time = get_current_time()\n",
    "#         debugLog(get_current_human_readable_time())\n",
    "#         model_history = param_model.fit_generator(train_generator_right, samples_per_epoch = len(X_train_right), validation_data = validation_generator_right, nb_val_samples = len(X_validation_right), nb_epoch = param_epochs, callbacks = model_callbacks_list)\n",
    "#         debugLog(model_history.history.keys())\n",
    "#         end_time = get_current_time()\n",
    "#         debugLog(get_current_human_readable_time())\n",
    "#         print_time_diff(start_time,end_time,\"Training \" + param_model_desc_name + \" for \" + str(param_epochs) + \" epochs\")    \n",
    "#          # Generate plot of accuracy over epochs\n",
    "#         plot_keras_history_object(model_history,param_model_desc_name)\n",
    "#     else:\n",
    "#         debugLog(\"Training and Validation on right images is disabled.\")\n",
    "\n",
    "    \n",
    "#     # Return the Model\n",
    "#     return param_model\n",
    "        "
   ]
  }
 ],
 "metadata": {
  "kernelspec": {
   "display_name": "Python 3",
   "language": "python",
   "name": "python3"
  },
  "language_info": {
   "codemirror_mode": {
    "name": "ipython",
    "version": 3
   },
   "file_extension": ".py",
   "mimetype": "text/x-python",
   "name": "python",
   "nbconvert_exporter": "python",
   "pygments_lexer": "ipython3",
   "version": "3.5.2"
  },
  "widgets": {
   "state": {},
   "version": "1.1.2"
  }
 },
 "nbformat": 4,
 "nbformat_minor": 2
}
