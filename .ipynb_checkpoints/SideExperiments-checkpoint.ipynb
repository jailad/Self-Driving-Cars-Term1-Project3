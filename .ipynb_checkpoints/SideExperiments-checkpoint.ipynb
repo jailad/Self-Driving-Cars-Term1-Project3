{
 "cells": [
  {
   "cell_type": "markdown",
   "metadata": {},
   "source": [
    "* File used to conduct other 'experiments' ( than the main pipeline ) for this project"
   ]
  },
  {
   "cell_type": "code",
   "execution_count": 22,
   "metadata": {
    "collapsed": false,
    "deletable": true,
    "editable": true
   },
   "outputs": [],
   "source": [
    "# Common Imports\n",
    "\n",
    "import csv\n",
    "import numpy as np\n",
    "# this signifies that we will use matplotlib to show graphics inline within the jupyter notebook\n",
    "%matplotlib inline\n",
    "import matplotlib.image as mpimg\n",
    "import matplotlib.pyplot as plt\n",
    "import resource # Useful for getting memory usage\n",
    "import sys # Useful for progress bar\n",
    "import os # Useful to enlist directories, create directories and also to make a ping sound\n",
    "import cv2\n"
   ]
  },
  {
   "cell_type": "code",
   "execution_count": 2,
   "metadata": {
    "collapsed": true,
    "deletable": true,
    "editable": true
   },
   "outputs": [],
   "source": [
    "# Common Constants\n",
    "\n",
    "const_csv_filename = 'driving_log.csv'\n",
    "const_image_foldername = 'IMG/'\n",
    "const_udacity_data_folder_name = 'data/fromudacity/'\n",
    "const_my_data_fast_track1_clockwise_folder_name = 'data/fast_track1clockwise/'\n",
    "const_my_data_fast_track1_counterclockwise_folder_name = 'data/fast_track1counterclockwise/'\n"
   ]
  },
  {
   "cell_type": "code",
   "execution_count": 3,
   "metadata": {
    "collapsed": true,
    "deletable": true,
    "editable": true
   },
   "outputs": [],
   "source": [
    "# Useful to selectively turn on / off logging at different levels\n",
    "\n",
    "const_info_log_enabled = True\n",
    "def infoLog(logMessage):\n",
    "    if const_info_log_enabled == True:\n",
    "        print(\"\")\n",
    "        print(logMessage)\n",
    "\n",
    "const_debug_log_enabled = True\n",
    "def debugLog(logMessage):\n",
    "    if const_debug_log_enabled == True:\n",
    "        print(\"\")\n",
    "        print(logMessage)\n",
    "        \n",
    "const_warning_log_enabled = True\n",
    "def warningLog(logMessage):\n",
    "    if const_warning_log_enabled == True:\n",
    "        print(\"\")\n",
    "        print(logMessage)\n",
    "        \n",
    "const_error_log_enabled = True\n",
    "def errorLog(logMessage):\n",
    "    if const_error_log_enabled == True:\n",
    "        print(\"\")\n",
    "        print(logMessage)\n",
    "        "
   ]
  },
  {
   "cell_type": "code",
   "execution_count": 4,
   "metadata": {
    "collapsed": false,
    "deletable": true,
    "editable": true
   },
   "outputs": [
    {
     "name": "stdout",
     "output_type": "stream",
     "text": [
      "\n",
      "72044 Kb\n"
     ]
    }
   ],
   "source": [
    "# Early on in the training process, I ran into issues where I was getting a memory error\n",
    "# This was resolved by terminating the Docker process, terminating all notebooks, restarting Chrome, relaunching Docker, and relaunching the notebooks\n",
    "# Jupyter notebooks tend to become 'heavy' when there size increases, so the restarts were a regular feature ( once everyday ) of the overall process\n",
    "\n",
    "def print_memory_usage():\n",
    "    infoLog(\"{} Kb\".format(resource.getrusage(resource.RUSAGE_SELF).ru_maxrss))\n",
    "    \n",
    "print_memory_usage()\n"
   ]
  },
  {
   "cell_type": "code",
   "execution_count": 5,
   "metadata": {
    "collapsed": false,
    "deletable": true,
    "editable": true
   },
   "outputs": [],
   "source": [
    "# This can be used to indicate the completion of training for example\n",
    "# This works on a Mac, but not sure of other platforms\n",
    "\n",
    "def makeSound():\n",
    "    os.system(\"printf '\\a'\") # or '\\7' \n",
    "    \n",
    "    \n",
    "makeSound()"
   ]
  },
  {
   "cell_type": "code",
   "execution_count": 6,
   "metadata": {
    "collapsed": false,
    "deletable": true,
    "editable": true
   },
   "outputs": [
    {
     "name": "stdout",
     "output_type": "stream",
     "text": [
      "[============================================================] 100.0% ...\r"
     ]
    }
   ],
   "source": [
    "# Shows a nice progress bar for long running operations\n",
    "# Used From - http://stackoverflow.com/questions/3173320/text-progress-bar-in-the-console\n",
    "\n",
    "def progressIndicator(count, total, suffix=''):\n",
    "    bar_len = 60\n",
    "    filled_len = int(round(bar_len * count / float(total)))\n",
    "\n",
    "    percents = round(100.0 * count / float(total), 1)\n",
    "    bar = '=' * filled_len + '-' * (bar_len - filled_len)\n",
    "\n",
    "    sys.stdout.write('[%s] %s%s ...%s\\r' % (bar, percents, '%', suffix))\n",
    "    sys.stdout.flush()  \n",
    "    \n",
    "    \n",
    "for i in range(0,200):\n",
    "    progressIndicator(i+1,200)"
   ]
  },
  {
   "cell_type": "code",
   "execution_count": 7,
   "metadata": {
    "collapsed": false,
    "deletable": true,
    "editable": true
   },
   "outputs": [
    {
     "name": "stdout",
     "output_type": "stream",
     "text": [
      "\n",
      "data/fromudacity/driving_log.csv\n",
      "\n",
      "data/fromudacity/IMG/\n"
     ]
    }
   ],
   "source": [
    "# File paths - Udacity Data\n",
    "\n",
    "const_udacity_data_csv_path = const_udacity_data_folder_name + const_csv_filename\n",
    "const_udacity_data_images_folder_path = const_udacity_data_folder_name + const_image_foldername\n",
    "\n",
    "infoLog(const_udacity_data_csv_path)\n",
    "infoLog(const_udacity_data_images_folder_path)"
   ]
  },
  {
   "cell_type": "code",
   "execution_count": 8,
   "metadata": {
    "collapsed": false,
    "deletable": true,
    "editable": true
   },
   "outputs": [
    {
     "name": "stdout",
     "output_type": "stream",
     "text": [
      "\n",
      "data/fast_track1clockwise/driving_log.csv\n",
      "\n",
      "data/fast_track1clockwise/IMG/\n"
     ]
    }
   ],
   "source": [
    "# File paths - My Data - Fast Driving - Track 1 - Clockwise\n",
    "\n",
    "const_my_data_fast_track1_clockwise_csv_path = const_my_data_fast_track1_clockwise_folder_name + const_csv_filename\n",
    "const_my_data_fast_track1_clockwise_images_folder_path = const_my_data_fast_track1_clockwise_folder_name + const_image_foldername\n",
    "\n",
    "infoLog(const_my_data_fast_track1_clockwise_csv_path)\n",
    "infoLog(const_my_data_fast_track1_clockwise_images_folder_path)"
   ]
  },
  {
   "cell_type": "code",
   "execution_count": 9,
   "metadata": {
    "collapsed": false,
    "deletable": true,
    "editable": true
   },
   "outputs": [
    {
     "name": "stdout",
     "output_type": "stream",
     "text": [
      "\n",
      "data/fast_track1counterclockwise/driving_log.csv\n",
      "\n",
      "data/fast_track1counterclockwise/IMG/\n"
     ]
    }
   ],
   "source": [
    "# File paths - My Data - Fast Driving - Track 1 - Counter Clockwise\n",
    "\n",
    "const_my_data_fast_track1_counter_clockwise_csv_path = const_my_data_fast_track1_counterclockwise_folder_name + const_csv_filename\n",
    "const_my_data_fast_track1_counter_clockwise_images_folder_path = const_my_data_fast_track1_counterclockwise_folder_name + const_image_foldername\n",
    "\n",
    "infoLog(const_my_data_fast_track1_counter_clockwise_csv_path)\n",
    "infoLog(const_my_data_fast_track1_counter_clockwise_images_folder_path)"
   ]
  },
  {
   "cell_type": "markdown",
   "metadata": {
    "deletable": true,
    "editable": true
   },
   "source": [
    "---\n",
    "## Step 0: Load The Data"
   ]
  },
  {
   "cell_type": "code",
   "execution_count": 10,
   "metadata": {
    "collapsed": true,
    "deletable": true,
    "editable": true
   },
   "outputs": [],
   "source": [
    "\n",
    "# 1. Generate Loads of data of different types etc. ( say around 40,000 data points across 8 categories)\n",
    "# Put this data into different folders, so that they are easily distinguishable\n",
    "# You can also separate the data out into Center cam data, left cam data and right cam data\n",
    "\n",
    "# Data Sets:\n",
    "# 1. Sample Data as provided by Udacity. ( left, right, center - data can be doubled easily by \n",
    "# flipping an image, and reversing the steering sign.)\n",
    "# 2. Track 1 - Center\n",
    "# 3. Track 1 - Reverse - Center \n",
    "# 4. Track 1 - Left\n",
    "# 5. Track 1 - Reverse - Left \n",
    "# 6. Track 1 - Right\n",
    "# 7. Track 1 - Reverse - Right\n",
    "# 8. Additional laps. \n",
    "# 9. Track 2 ( center, left, right, straight, reverse ) - a ton of data points here\n",
    "# 10. Generate data tailored specifically to recovery scenarios, to help the model recover / generalize better. \n"
   ]
  },
  {
   "cell_type": "code",
   "execution_count": 13,
   "metadata": {
    "collapsed": false,
    "deletable": true,
    "editable": true
   },
   "outputs": [
    {
     "name": "stdout",
     "output_type": "stream",
     "text": [
      "\n",
      "Started Data Reading :data/fromudacity/driving_log.csv\n",
      "\n",
      "Ended Data Reading :data/fromudacity/driving_log.csv\n"
     ]
    }
   ],
   "source": [
    "\n",
    "# 2. For each category Load the Data through CSV module or Pandas module, so as to separate it into input feature(s) \n",
    "# and label(s)\n",
    "\n",
    "def load_csv_file(filename):\n",
    "\n",
    "    debugLog(\"Started Data Reading :\" + filename)\n",
    "    training_features_paths_left = list()\n",
    "    training_features_paths_center = list()\n",
    "    training_features_paths_right = list()\n",
    "    training_labels = None\n",
    "    training_labels_steering_angle = np.array([])\n",
    "    with open(filename, 'r') as csvfile:\n",
    "        next(csvfile) # Skip the Header\n",
    "        reader = csv.reader(csvfile, delimiter=',', quotechar='|')\n",
    "        for data_row in reader:\n",
    "                center = data_row[0]\n",
    "                left = data_row[1]\n",
    "                right = data_row[2]\n",
    "                steering = data_row[3]\n",
    "                throttle = data_row[4]\n",
    "                brake = data_row[5]\n",
    "                speed = data_row[6]\n",
    "            \n",
    "                training_features_paths_left.append(left)\n",
    "                training_features_paths_center.append(center)\n",
    "                training_features_paths_right.append(right)\n",
    "                training_labels_steering_angle = np.append(training_labels_steering_angle,steering)\n",
    "            \n",
    "                labels_array = np.array([steering, throttle, brake,speed])\n",
    "                if training_labels is not None:\n",
    "                    training_labels = np.vstack((training_labels,labels_array))\n",
    "                else:\n",
    "                    training_labels = labels_array\n",
    "    debugLog(\"Ended Data Reading :\" + filename)\n",
    "    return training_features_paths_left, training_features_paths_center, training_features_paths_right, training_labels, training_labels_steering_angle\n",
    "\n",
    "\n",
    "training_features_paths_left, training_features_paths_center, training_features_paths_right, training_labels, training_labels_steering_angle = load_csv_file(const_udacity_data_csv_path)\n"
   ]
  },
  {
   "cell_type": "code",
   "execution_count": 14,
   "metadata": {
    "collapsed": false,
    "deletable": true,
    "editable": true
   },
   "outputs": [
    {
     "name": "stdout",
     "output_type": "stream",
     "text": [
      "\n",
      "8036\n",
      "\n",
      " IMG/left_2016_12_01_13_30_48_287.jpg\n",
      "\n",
      " IMG/left_2016_12_01_13_46_38_947.jpg\n",
      "\n",
      "\n",
      "\n",
      "8036\n",
      "\n",
      "IMG/center_2016_12_01_13_30_48_287.jpg\n",
      "\n",
      "IMG/center_2016_12_01_13_46_38_947.jpg\n",
      "\n",
      "\n",
      "\n",
      "8036\n",
      "\n",
      " IMG/right_2016_12_01_13_30_48_287.jpg\n",
      "\n",
      " IMG/right_2016_12_01_13_46_38_947.jpg\n",
      "\n",
      "\n",
      "\n",
      "(8036, 4)\n",
      "\n",
      "[' 0' ' 0' ' 0' ' 22.14829']\n",
      "\n",
      "[' 0' ' 0' ' 0' ' 1.374433']\n",
      "\n",
      "(8036,)\n",
      "\n",
      " 0\n",
      "\n",
      " 0\n"
     ]
    }
   ],
   "source": [
    "# Quick Sanity check on the loaded data dimensions\n",
    "\n",
    "debugLog(len(training_features_paths_left))\n",
    "debugLog(training_features_paths_left[0])\n",
    "debugLog(training_features_paths_left[len(training_features_paths_left)-1])\n",
    "debugLog(\"\")\n",
    "\n",
    "debugLog(len(training_features_paths_center))\n",
    "debugLog(training_features_paths_center[0])\n",
    "debugLog(training_features_paths_center[len(training_features_paths_center)-1])\n",
    "debugLog(\"\")\n",
    "\n",
    "debugLog(len(training_features_paths_right))\n",
    "debugLog(training_features_paths_right[0])\n",
    "debugLog(training_features_paths_right[len(training_features_paths_right)-1])\n",
    "debugLog(\"\")\n",
    "\n",
    "debugLog(training_labels.shape)\n",
    "debugLog(training_labels[0])\n",
    "debugLog(training_labels[training_labels.shape[0]-1])\n",
    "\n",
    "debugLog(training_labels_steering_angle.shape)\n",
    "debugLog(training_labels_steering_angle[0])\n",
    "debugLog(training_labels_steering_angle[training_labels_steering_angle.shape[0]-1])\n",
    "\n",
    "# Assert if dimensions of training data do not match with the dimensions of the label data\n",
    "\n",
    "assert len(training_features_paths_left) == len(training_features_paths_center) == len(training_features_paths_right) == training_labels.shape[0]\n"
   ]
  },
  {
   "cell_type": "code",
   "execution_count": 24,
   "metadata": {
    "collapsed": false,
    "deletable": true,
    "editable": true
   },
   "outputs": [
    {
     "name": "stdout",
     "output_type": "stream",
     "text": [
      "\n",
      "100\n",
      "\n",
      "100\n",
      "\n",
      "100\n",
      "\n",
      "100\n"
     ]
    }
   ],
   "source": [
    "# Prepare a subset of images and labels initially\n",
    "\n",
    "subset_training_features_paths = list()\n",
    "subset_training_features_images = None\n",
    "subset_training_labels = None\n",
    "subset_training_labels_steering_angles = None\n",
    "\n",
    "num_of_features_to_load = 100\n",
    "\n",
    "def load_feature_images(param_images_path, param_labels, param_labels_steering_angles, param_num_features):\n",
    "    subset_labels = param_labels[0:param_num_features]\n",
    "    subset_labels_steering_angles = param_labels_steering_angles[0:param_num_features]\n",
    "    subset_paths = list()\n",
    "    images_list = list()\n",
    "    \n",
    "    for index in range(0,param_num_features):\n",
    "        image_relative_path = param_images_path[index]\n",
    "        subset_paths.append(image_relative_path)\n",
    "        \n",
    "        image_path = const_udacity_data_folder_name + image_relative_path\n",
    "        image = mpimg.imread(image_path)\n",
    "        images_list.append(image) \n",
    "        \n",
    "    return np.array(images_list, dtype=np.float32), subset_labels, subset_labels_steering_angles, subset_paths\n",
    "\n",
    "subset_training_features_images,subset_training_labels,subset_training_labels_steering_angles,subset_training_features_paths = load_feature_images(training_features_paths_center,training_labels, training_labels_steering_angle, num_of_features_to_load)\n",
    "\n",
    "debugLog(len(subset_training_features_images))\n",
    "debugLog(len(subset_training_labels))\n",
    "debugLog(len(subset_training_labels_steering_angles))\n",
    "debugLog(len(subset_training_features_paths))\n"
   ]
  },
  {
   "cell_type": "code",
   "execution_count": 29,
   "metadata": {
    "collapsed": false,
    "deletable": true,
    "editable": true
   },
   "outputs": [
    {
     "name": "stdout",
     "output_type": "stream",
     "text": [
      "\n",
      "IMG/center_2016_12_01_13_32_47_192.jpg\n",
      "\n",
      "88\n",
      "\n",
      "(160, 320, 3)\n",
      "\n",
      "uint8\n",
      "\n",
      "[' 0.0904655' ' 0.9855326' ' 0' ' 30.08726']\n"
     ]
    },
    {
     "data": {
      "image/png": "[encoded data removed]",
      "text/plain": [
       "<matplotlib.figure.Figure at 0x7f220937d748>"
      ]
     },
     "metadata": {},
     "output_type": "display_data"
    }
   ],
   "source": [
    "\n",
    "# Prepare a random image from the above sub-set to visualize\n",
    "\n",
    "def visualize_image_from(filepaths, labels):\n",
    "    index = np.random.randint(0, len(filepaths))   \n",
    "    image_filepath = filepaths[index]\n",
    "    image_label = labels[index]\n",
    "    image = cv2.imread('data/fromudacity/'+image_filepath)\n",
    "    \n",
    "    debugLog(image_filepath)\n",
    "    debugLog(index)\n",
    "    debugLog(image.shape) \n",
    "    debugLog(image.dtype) \n",
    "    debugLog(image_label)\n",
    "    \n",
    "    plt.title(image_filepath)\n",
    "    plt.imshow(image) \n",
    "    \n",
    "\n",
    "visualize_image_from(subset_training_features_paths,subset_training_labels)\n"
   ]
  },
  {
   "cell_type": "code",
   "execution_count": 17,
   "metadata": {
    "collapsed": false,
    "deletable": true,
    "editable": true
   },
   "outputs": [
    {
     "name": "stdout",
     "output_type": "stream",
     "text": [
      "\n",
      "[[[ 130.  163.  208.]\n",
      "  [ 130.  163.  208.]\n",
      "  [ 130.  163.  208.]\n",
      "  ..., \n",
      "  [ 131.  163.  210.]\n",
      "  [ 131.  163.  210.]\n",
      "  [ 131.  163.  210.]]\n",
      "\n",
      " [[ 130.  163.  208.]\n",
      "  [ 130.  163.  208.]\n",
      "  [ 130.  163.  208.]\n",
      "  ..., \n",
      "  [ 131.  163.  210.]\n",
      "  [ 131.  163.  210.]\n",
      "  [ 131.  163.  210.]]\n",
      "\n",
      " [[ 131.  164.  209.]\n",
      "  [ 131.  164.  209.]\n",
      "  [ 131.  164.  209.]\n",
      "  ..., \n",
      "  [ 132.  164.  211.]\n",
      "  [ 132.  164.  211.]\n",
      "  [ 132.  164.  211.]]\n",
      "\n",
      " ..., \n",
      " [[ 112.   99.   83.]\n",
      "  [ 117.  104.   88.]\n",
      "  [ 119.  106.   89.]\n",
      "  ..., \n",
      "  [ 135.  116.   99.]\n",
      "  [ 142.  123.  106.]\n",
      "  [ 147.  128.  111.]]\n",
      "\n",
      " [[ 122.  109.   92.]\n",
      "  [ 118.  105.   88.]\n",
      "  [ 112.   99.   82.]\n",
      "  ..., \n",
      "  [ 144.  123.  104.]\n",
      "  [ 136.  115.   96.]\n",
      "  [ 131.  110.   91.]]\n",
      "\n",
      " [[ 117.  104.   87.]\n",
      "  [ 109.   96.   79.]\n",
      "  [ 111.   95.   79.]\n",
      "  ..., \n",
      "  [ 155.  134.  115.]\n",
      "  [ 146.  125.  106.]\n",
      "  [ 139.  118.   99.]]]\n"
     ]
    }
   ],
   "source": [
    "# Log pixel intensities to visualize whether they have been normalized or not\n",
    "\n",
    "debugLog(subset_training_features_images[0])"
   ]
  },
  {
   "cell_type": "markdown",
   "metadata": {
    "deletable": true,
    "editable": true
   },
   "source": [
    "---\n",
    "## Step 1: Model Architecture"
   ]
  },
  {
   "cell_type": "code",
   "execution_count": null,
   "metadata": {
    "collapsed": true,
    "deletable": true,
    "editable": true
   },
   "outputs": [],
   "source": [
    "# 3. Create a very simple CNN architecture ( no dropout needed at this stage ), ao that you can quickly test this \n",
    "# against simulator, or predictions against 3 / 4 test images for whom the different steering angles are already known.\n",
    "# This will help in quickly validating the end to end pipeline functionality, which can then be iterated upon."
   ]
  },
  {
   "cell_type": "code",
   "execution_count": null,
   "metadata": {
    "collapsed": true,
    "deletable": true,
    "editable": true
   },
   "outputs": [],
   "source": [
    "# Useful API Docs for Keras 1.2.1\n",
    "\n",
    "# Convolution2D\n",
    "# keras.layers.convolutional.Convolution2D(nb_filter, nb_row, nb_col, init='glorot_uniform', activation=None, \n",
    "# weights=None, border_mode='valid', subsample=(1, 1), dim_ordering='default', W_regularizer=None, \n",
    "# b_regularizer=None, activity_regularizer=None, W_constraint=None, b_constraint=None, bias=True)\n",
    "\n"
   ]
  },
  {
   "cell_type": "code",
   "execution_count": null,
   "metadata": {
    "collapsed": false,
    "deletable": true,
    "editable": true
   },
   "outputs": [],
   "source": []
  },
  {
   "cell_type": "code",
   "execution_count": null,
   "metadata": {
    "collapsed": true,
    "deletable": true,
    "editable": true
   },
   "outputs": [],
   "source": [
    "# 4.1 Add a preprocesing lambda layer at the start of the model, to apply normalization.\n",
    "# 4.2 Add another lambda layer at the start of the model, such that it reshapes the image to a smaller input image\n",
    "# with lower dimensions, and less number of features. This might make the training process faster.\n",
    "# 4.3 Add another lambda layer to the model, to apply region of interest selection to the input image(s)."
   ]
  },
  {
   "cell_type": "code",
   "execution_count": null,
   "metadata": {
    "collapsed": true,
    "deletable": true,
    "editable": true
   },
   "outputs": [],
   "source": [
    "# 5. For each category of data, shuffle the data, and split the data into train and validation (70:30)"
   ]
  },
  {
   "cell_type": "code",
   "execution_count": null,
   "metadata": {
    "collapsed": true,
    "deletable": true,
    "editable": true
   },
   "outputs": [],
   "source": [
    "# 6. Use the Fit Generator method to fit the training data to the model, then evaluate it's validation accuracy\n",
    "# It might be beneficial to use Amazon GPUs to do this training to achieve faster running times and quicker results.\n",
    "# At a minimum at least setup the GPU environment to ensure it is available as and when needed."
   ]
  },
  {
   "cell_type": "code",
   "execution_count": null,
   "metadata": {
    "collapsed": true,
    "deletable": true,
    "editable": true
   },
   "outputs": [],
   "source": [
    "# 7. Run this for, say 7 epochs to see the trends in training accuracy versus validation accuracy and also the loss."
   ]
  },
  {
   "cell_type": "code",
   "execution_count": null,
   "metadata": {
    "collapsed": true,
    "deletable": true,
    "editable": true
   },
   "outputs": [],
   "source": [
    "# 8. If training accuracy / validation accuracy meet some criteria, then save this model to Disk "
   ]
  },
  {
   "cell_type": "code",
   "execution_count": null,
   "metadata": {
    "collapsed": true,
    "deletable": true,
    "editable": true
   },
   "outputs": [],
   "source": [
    "# 9. Once model has been saved, try using this model for autonomous driving and see the performance."
   ]
  },
  {
   "cell_type": "code",
   "execution_count": null,
   "metadata": {
    "collapsed": true,
    "deletable": true,
    "editable": true
   },
   "outputs": [],
   "source": [
    "# 10. Completes setup of the basic pipeline. The next objective is to work on the 'reference' model architecture\n",
    "# This can be achieved, by taking a well proven model architecture ( e.g. VGGNet or GoogleNet ), and then \n",
    "# transfer learning it. This is needed, so that we can have a good reference architecure. Once you achieve\n",
    "# seriously good results with this architecture, you can proceed further. This is also needed so that\n",
    "# once the architecture is frozen, we can train the model in phases across different data sets, one day at a time\n",
    "# and if our model architecture does not change, then we should be able to leverage a previously stored model\n",
    "# and carry forward."
   ]
  },
  {
   "cell_type": "code",
   "execution_count": null,
   "metadata": {
    "collapsed": true,
    "deletable": true,
    "editable": true
   },
   "outputs": [],
   "source": [
    "# 11. Pick a slightly different data set ( different than the one loaded in #2), and then repeat step(s) 2 to 9 in a \n",
    "# manner such that the model gets sufficiently trained for this data set as well. This might need more / less number\n",
    "# of epochs than the previous epochs."
   ]
  },
  {
   "cell_type": "code",
   "execution_count": null,
   "metadata": {
    "collapsed": true,
    "deletable": true,
    "editable": true
   },
   "outputs": [],
   "source": [
    "# 12. Review the results like training accuracy after # 11, and if all is good, save the model again. "
   ]
  },
  {
   "cell_type": "code",
   "execution_count": null,
   "metadata": {
    "collapsed": true,
    "deletable": true,
    "editable": true
   },
   "outputs": [],
   "source": [
    "# 13. As per the results, keep updating the model ( with say drop out / l2 / pooling at each layer, or other enhancements )\n",
    "# so that it's performance improves."
   ]
  },
  {
   "cell_type": "code",
   "execution_count": null,
   "metadata": {
    "collapsed": true,
    "deletable": true,
    "editable": true
   },
   "outputs": [],
   "source": [
    "# 14. Repeat #11 - #13, until you start achieving sufficient generalization and at least one complete run \n",
    "# on the training track #1, "
   ]
  },
  {
   "cell_type": "code",
   "execution_count": null,
   "metadata": {
    "collapsed": true,
    "deletable": true,
    "editable": true
   },
   "outputs": [],
   "source": [
    "# 15. At this stage start work on the write up, and the read me file(s) for submission."
   ]
  },
  {
   "cell_type": "code",
   "execution_count": null,
   "metadata": {
    "collapsed": true,
    "deletable": true,
    "editable": true
   },
   "outputs": [],
   "source": [
    "# 16. Continue testing the model, in autonomous mode, for track 2, to review it's performance / generalization there."
   ]
  }
 ],
 "metadata": {
  "kernelspec": {
   "display_name": "Python 3",
   "language": "python",
   "name": "python3"
  },
  "language_info": {
   "codemirror_mode": {
    "name": "ipython",
    "version": 3
   },
   "file_extension": ".py",
   "mimetype": "text/x-python",
   "name": "python",
   "nbconvert_exporter": "python",
   "pygments_lexer": "ipython3",
   "version": "3.5.2"
  },
  "widgets": {
   "state": {},
   "version": "1.1.2"
  }
 },
 "nbformat": 4,
 "nbformat_minor": 2
}
